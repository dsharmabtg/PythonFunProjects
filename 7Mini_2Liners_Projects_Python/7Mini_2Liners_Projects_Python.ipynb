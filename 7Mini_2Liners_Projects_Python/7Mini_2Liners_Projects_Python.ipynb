{
  "nbformat": 4,
  "nbformat_minor": 0,
  "metadata": {
    "colab": {
      "provenance": []
    },
    "kernelspec": {
      "name": "python3",
      "display_name": "Python 3"
    },
    "language_info": {
      "name": "python"
    }
  },
  "cells": [
    {
      "cell_type": "markdown",
      "source": [
        "# 1. Auto Corrector"
      ],
      "metadata": {
        "id": "oaboci1KGTEB"
      }
    },
    {
      "cell_type": "markdown",
      "source": [
        "### Install the `auto_corrector` python package"
      ],
      "metadata": {
        "id": "6WrSQ_3eGbTF"
      }
    },
    {
      "cell_type": "code",
      "source": [
        "!pip install auto_corrector"
      ],
      "metadata": {
        "colab": {
          "base_uri": "https://localhost:8080/"
        },
        "id": "F5TsENQDGST4",
        "outputId": "321c0cdd-6bb2-4448-efcc-84efe47ed29a"
      },
      "execution_count": 1,
      "outputs": [
        {
          "output_type": "stream",
          "name": "stdout",
          "text": [
            "Looking in indexes: https://pypi.org/simple, https://us-python.pkg.dev/colab-wheels/public/simple/\n",
            "Collecting auto_corrector\n",
            "  Downloading auto_corrector-0.0.2-py3-none-any.whl (353 kB)\n",
            "\u001b[K     |████████████████████████████████| 353 kB 5.1 MB/s \n",
            "\u001b[?25hInstalling collected packages: auto-corrector\n",
            "Successfully installed auto-corrector-0.0.2\n"
          ]
        }
      ]
    },
    {
      "cell_type": "markdown",
      "source": [
        "### Import the package"
      ],
      "metadata": {
        "id": "xGpeW4vdGrYL"
      }
    },
    {
      "cell_type": "code",
      "execution_count": 2,
      "metadata": {
        "id": "Y-boOxk3GDb6"
      },
      "outputs": [],
      "source": [
        "from auto_corrector import correct"
      ]
    },
    {
      "cell_type": "code",
      "source": [
        "sentence=\"this is pythln\"\n",
        "res=correct(sentence)\n",
        "print(res)"
      ],
      "metadata": {
        "colab": {
          "base_uri": "https://localhost:8080/"
        },
        "id": "C6MBKJy3GukQ",
        "outputId": "40806cee-a5fc-4976-ac96-a61b108998d5"
      },
      "execution_count": 3,
      "outputs": [
        {
          "output_type": "stream",
          "name": "stdout",
          "text": [
            "this is python\n"
          ]
        }
      ]
    },
    {
      "cell_type": "code",
      "source": [
        "sentence=input('\\033[1m' + \"Enter the sentence for auto correction:\")\n",
        "print('\\033[0m')\n",
        "res=correct(sentence)\n",
        "print(res)"
      ],
      "metadata": {
        "colab": {
          "base_uri": "https://localhost:8080/"
        },
        "id": "3PkJWajtGxfM",
        "outputId": "2d9886db-edfa-4b91-de72-24c5c5e5a5f8"
      },
      "execution_count": 6,
      "outputs": [
        {
          "output_type": "stream",
          "name": "stdout",
          "text": [
            "Enter the sentence for auto correction:Hello, hwo are yuo?\n",
            "Hello, how are you?\n"
          ]
        }
      ]
    },
    {
      "cell_type": "markdown",
      "source": [
        "#2. Word Dictionary-Meaning"
      ],
      "metadata": {
        "id": "_wH1rmwyHLVM"
      }
    },
    {
      "cell_type": "markdown",
      "source": [
        "### Install the `PyDictionary` python package"
      ],
      "metadata": {
        "id": "DkXsCR-WHYkm"
      }
    },
    {
      "cell_type": "code",
      "source": [
        "!pip install PyDictionary"
      ],
      "metadata": {
        "colab": {
          "base_uri": "https://localhost:8080/",
          "height": 713
        },
        "id": "fowLm2mrHeYb",
        "outputId": "7e88368c-14c9-4ab6-e824-a874dd418dd2"
      },
      "execution_count": 7,
      "outputs": [
        {
          "output_type": "stream",
          "name": "stdout",
          "text": [
            "Looking in indexes: https://pypi.org/simple, https://us-python.pkg.dev/colab-wheels/public/simple/\n",
            "Collecting PyDictionary\n",
            "  Downloading PyDictionary-2.0.1-py3-none-any.whl (6.1 kB)\n",
            "Requirement already satisfied: requests in /usr/local/lib/python3.8/dist-packages (from PyDictionary) (2.23.0)\n",
            "Collecting goslate\n",
            "  Downloading goslate-1.5.4.tar.gz (14 kB)\n",
            "Requirement already satisfied: bs4 in /usr/local/lib/python3.8/dist-packages (from PyDictionary) (0.0.1)\n",
            "Requirement already satisfied: click in /usr/local/lib/python3.8/dist-packages (from PyDictionary) (7.1.2)\n",
            "Requirement already satisfied: beautifulsoup4 in /usr/local/lib/python3.8/dist-packages (from bs4->PyDictionary) (4.6.3)\n",
            "Collecting futures\n",
            "  Downloading futures-3.0.5.tar.gz (25 kB)\n",
            "\u001b[33mWARNING: Discarding https://files.pythonhosted.org/packages/55/db/97c1ca37edab586a1ae03d6892b6633d8eaa23b23ac40c7e5bbc55423c78/futures-3.0.5.tar.gz#sha256=0542525145d5afc984c88f914a0c85c77527f65946617edb5274f72406f981df (from https://pypi.org/simple/futures/). Command errored out with exit status 1: python setup.py egg_info Check the logs for full command output.\u001b[0m\n",
            "  Downloading futures-3.0.4.tar.gz (25 kB)\n",
            "\u001b[33mWARNING: Discarding https://files.pythonhosted.org/packages/8d/73/b5fff618482bc06c9711e7cdc0d5d7eb1904d35898f48f2d7f9696b08bef/futures-3.0.4.tar.gz#sha256=19485d83f7bd2151c0aeaf88fbba3ee50dadfb222ffc3b66a344ef4952b782a3 (from https://pypi.org/simple/futures/). Command errored out with exit status 1: python setup.py egg_info Check the logs for full command output.\u001b[0m\n",
            "  Downloading futures-3.0.3.tar.gz (24 kB)\n",
            "\u001b[33mWARNING: Discarding https://files.pythonhosted.org/packages/4c/dc/f9473006d4c9c52d4a4e977173fbcbfb1a8ef3a57e32e885edf994fd4a45/futures-3.0.3.tar.gz#sha256=2fe2342bb4fe8b8e217f0d21b5921cbe5408bf966d9f92025e707e881b198bed (from https://pypi.org/simple/futures/). Command errored out with exit status 1: python setup.py egg_info Check the logs for full command output.\u001b[0m\n",
            "  Downloading futures-3.0.2.tar.gz (24 kB)\n",
            "\u001b[33mWARNING: Discarding https://files.pythonhosted.org/packages/f8/e7/fc0fcbeb9193ba2d4de00b065e7fd5aecd0679e93ce95a07322b2b1434f4/futures-3.0.2.tar.gz#sha256=dc3fc91508e49e0fd2f8625f0132d16e49c80f882e7e1d565c56b0d5dfbae257 (from https://pypi.org/simple/futures/). Command errored out with exit status 1: python setup.py egg_info Check the logs for full command output.\u001b[0m\n",
            "  Downloading futures-3.0.1.tar.gz (24 kB)\n",
            "\u001b[33mWARNING: Discarding https://files.pythonhosted.org/packages/b2/2c/6b6a57379e47031c6f52e625e0e2b8f6702a8d1f61b6e0daee391e82c187/futures-3.0.1.tar.gz#sha256=f78f2ef458639d72a625cf9c7643cf5442bb222ac11c12bcc445c6ad1cd862e2 (from https://pypi.org/simple/futures/). Command errored out with exit status 1: python setup.py egg_info Check the logs for full command output.\u001b[0m\n",
            "  Downloading futures-3.0.0.tar.gz (24 kB)\n",
            "\u001b[33mWARNING: Discarding https://files.pythonhosted.org/packages/ea/c9/35287369718fc05059e7a9d0d73c53745fe981010b4185b3858e7d46eff1/futures-3.0.0.tar.gz#sha256=d9cd7bb09aa01f0e4940af64c31fbd7045098b7b4354420d7838ea39e8b86ee3 (from https://pypi.org/simple/futures/). Command errored out with exit status 1: python setup.py egg_info Check the logs for full command output.\u001b[0m\n",
            "  Downloading futures-2.2.0-py2.py3-none-any.whl (16 kB)\n",
            "Requirement already satisfied: idna<3,>=2.5 in /usr/local/lib/python3.8/dist-packages (from requests->PyDictionary) (2.10)\n",
            "Requirement already satisfied: urllib3!=1.25.0,!=1.25.1,<1.26,>=1.21.1 in /usr/local/lib/python3.8/dist-packages (from requests->PyDictionary) (1.24.3)\n",
            "Requirement already satisfied: chardet<4,>=3.0.2 in /usr/local/lib/python3.8/dist-packages (from requests->PyDictionary) (3.0.4)\n",
            "Requirement already satisfied: certifi>=2017.4.17 in /usr/local/lib/python3.8/dist-packages (from requests->PyDictionary) (2022.12.7)\n",
            "Building wheels for collected packages: goslate\n",
            "  Building wheel for goslate (setup.py) ... \u001b[?25l\u001b[?25hdone\n",
            "  Created wheel for goslate: filename=goslate-1.5.4-py3-none-any.whl size=11597 sha256=176a095ad9f6a7d142761cc71d45cada83263016e4152d0d4d9eda1b25649ce7\n",
            "  Stored in directory: /root/.cache/pip/wheels/47/39/0e/e5f72817087159cd0bb36bbe09b12f5e9ae39af8b10aaef8fa\n",
            "Successfully built goslate\n",
            "Installing collected packages: futures, goslate, PyDictionary\n",
            "Successfully installed PyDictionary-2.0.1 futures-2.2.0 goslate-1.5.4\n"
          ]
        },
        {
          "output_type": "display_data",
          "data": {
            "application/vnd.colab-display-data+json": {
              "pip_warning": {
                "packages": [
                  "concurrent"
                ]
              }
            }
          },
          "metadata": {}
        }
      ]
    },
    {
      "cell_type": "markdown",
      "source": [
        "### Import the package"
      ],
      "metadata": {
        "id": "mhklgOqgHxUR"
      }
    },
    {
      "cell_type": "code",
      "source": [
        "from PyDictionary import PyDictionary\n"
      ],
      "metadata": {
        "id": "Ildn5ASHG4Vb"
      },
      "execution_count": 1,
      "outputs": []
    },
    {
      "cell_type": "code",
      "source": [
        "dictionary=PyDictionary()\n",
        "\n",
        "word = input('\\033[1m' + \"Enter the word for meaning:\")\n",
        "print('\\033[0m')\n",
        "\n",
        "word_meaning = dictionary.meaning(word)\n",
        "\n",
        "print('\\033[1m' + \"The meaning of the word \" + word + \" is:\\n \")\n",
        "print('\\033[0m')\n",
        "for key,val in word_meaning.items():\n",
        "  print('\\033[1m' + \"Parts of Speech: \" + key)\n",
        "  print('\\033[0m')\n",
        "  for v in val:\n",
        "    print(v)\n",
        "  print(\"\\n\")"
      ],
      "metadata": {
        "colab": {
          "base_uri": "https://localhost:8080/"
        },
        "id": "wpE-Pdc-H2Ln",
        "outputId": "49e6bc65-65ab-454a-9ecb-22dca8a34348"
      },
      "execution_count": 10,
      "outputs": [
        {
          "output_type": "stream",
          "name": "stdout",
          "text": [
            "Enter the word for meaning:opposite\n",
            "The meaning of the word opposite is:\n",
            " \n",
            "Parts of Speech: Noun\n",
            "a word that expresses a meaning opposed to the meaning of another word, in which case the two words are antonyms of each other\n",
            "a relation of direct opposition\n",
            "a contestant that you are matched against\n",
            "something inverted in sequence or character or effect\n",
            "\n",
            "\n",
            "Parts of Speech: Adjective\n",
            "being directly across from each other; facing\n",
            "of leaves etc; growing in pairs on either side of a stem\n",
            "moving or facing away from each other\n",
            "the other one of a complementary pair\n",
            "altogether different in nature or quality or significance\n",
            "characterized by opposite extremes; completely opposed\n",
            "or opposite\n",
            "\n",
            "\n",
            "Parts of Speech: Adverb\n",
            "directly facing each other\n",
            "\n",
            "\n"
          ]
        }
      ]
    },
    {
      "cell_type": "markdown",
      "source": [
        "#3. Google Search"
      ],
      "metadata": {
        "id": "iSdioD6AJnlD"
      }
    },
    {
      "cell_type": "markdown",
      "source": [
        "### Install the `googlesearch` python package"
      ],
      "metadata": {
        "id": "hVOeBjQEJwbr"
      }
    },
    {
      "cell_type": "code",
      "source": [
        "!pip install googlesearch-python"
      ],
      "metadata": {
        "colab": {
          "base_uri": "https://localhost:8080/",
          "height": 537
        },
        "id": "chxb_6UFH37p",
        "outputId": "c4145da1-c4c9-40b7-fffc-53cb8606d054"
      },
      "execution_count": 12,
      "outputs": [
        {
          "output_type": "stream",
          "name": "stdout",
          "text": [
            "Looking in indexes: https://pypi.org/simple, https://us-python.pkg.dev/colab-wheels/public/simple/\n",
            "Collecting googlesearch-python\n",
            "  Downloading googlesearch_python-1.1.0-py3-none-any.whl (3.6 kB)\n",
            "Collecting requests==2.25.1\n",
            "  Downloading requests-2.25.1-py2.py3-none-any.whl (61 kB)\n",
            "\u001b[K     |████████████████████████████████| 61 kB 3.4 MB/s \n",
            "\u001b[?25hCollecting beautifulsoup4==4.9.3\n",
            "  Downloading beautifulsoup4-4.9.3-py3-none-any.whl (115 kB)\n",
            "\u001b[K     |████████████████████████████████| 115 kB 9.5 MB/s \n",
            "\u001b[?25hCollecting soupsieve>1.2\n",
            "  Downloading soupsieve-2.3.2.post1-py3-none-any.whl (37 kB)\n",
            "Requirement already satisfied: certifi>=2017.4.17 in /usr/local/lib/python3.8/dist-packages (from requests==2.25.1->googlesearch-python) (2022.12.7)\n",
            "Requirement already satisfied: idna<3,>=2.5 in /usr/local/lib/python3.8/dist-packages (from requests==2.25.1->googlesearch-python) (2.10)\n",
            "Requirement already satisfied: chardet<5,>=3.0.2 in /usr/local/lib/python3.8/dist-packages (from requests==2.25.1->googlesearch-python) (3.0.4)\n",
            "Requirement already satisfied: urllib3<1.27,>=1.21.1 in /usr/local/lib/python3.8/dist-packages (from requests==2.25.1->googlesearch-python) (1.24.3)\n",
            "Installing collected packages: soupsieve, requests, beautifulsoup4, googlesearch-python\n",
            "  Attempting uninstall: requests\n",
            "    Found existing installation: requests 2.23.0\n",
            "    Uninstalling requests-2.23.0:\n",
            "      Successfully uninstalled requests-2.23.0\n",
            "  Attempting uninstall: beautifulsoup4\n",
            "    Found existing installation: beautifulsoup4 4.6.3\n",
            "    Uninstalling beautifulsoup4-4.6.3:\n",
            "      Successfully uninstalled beautifulsoup4-4.6.3\n",
            "Successfully installed beautifulsoup4-4.9.3 googlesearch-python-1.1.0 requests-2.25.1 soupsieve-2.3.2.post1\n"
          ]
        },
        {
          "output_type": "display_data",
          "data": {
            "application/vnd.colab-display-data+json": {
              "pip_warning": {
                "packages": [
                  "bs4",
                  "requests"
                ]
              }
            }
          },
          "metadata": {}
        }
      ]
    },
    {
      "cell_type": "markdown",
      "source": [
        "### Import the package"
      ],
      "metadata": {
        "id": "ThiaO29HJ30Y"
      }
    },
    {
      "cell_type": "code",
      "source": [
        "from googlesearch import search"
      ],
      "metadata": {
        "id": "6sKR9oBDJ4g7"
      },
      "execution_count": 1,
      "outputs": []
    },
    {
      "cell_type": "code",
      "source": [
        "query = input('\\033[1m' + \"Enter the query for search: \")\n",
        "print('\\033[0m')\n",
        "for i in search(query):\n",
        "    print(i)"
      ],
      "metadata": {
        "colab": {
          "base_uri": "https://localhost:8080/"
        },
        "id": "ihdpoTQUJ2wK",
        "outputId": "8c485d7a-856d-4821-ef26-01dfe809ecab"
      },
      "execution_count": 4,
      "outputs": [
        {
          "output_type": "stream",
          "name": "stdout",
          "text": [
            "Enter the query for search: covid19\n",
            "https://www.cdc.gov/coronavirus/2019-ncov/index.html\n",
            "https://coronavirus.jhu.edu/map.html\n",
            "https://covid19.ca.gov/\n",
            "https://covid19.healthdata.org/\n",
            "https://en.wikipedia.org/wiki/COVID-19\n",
            "https://covid19.ncdhhs.gov/\n",
            "https://covid19.tn.gov/\n",
            "https://coronavirus.health.ny.gov/home\n",
            "https://www.nyc.gov/site/doh/covid/covid-19-data.page\n",
            "https://covid19.tn.gov/\n",
            "https://coronavirus.health.ny.gov/home\n",
            "https://www.nyc.gov/site/doh/covid/covid-19-data.page\n"
          ]
        }
      ]
    },
    {
      "cell_type": "markdown",
      "source": [
        "googlesearch supports a few additional options. By default, googlesearch returns 10 results. This can be changed. To get a 100 results on Google for example, run the following program."
      ],
      "metadata": {
        "id": "gnC7Dg9ULQFO"
      }
    },
    {
      "cell_type": "code",
      "source": [
        "query = input('\\033[1m' +\"Enter the query for search: \")\n",
        "print('\\033[0m')\n",
        "for i in search(query, num_results=15):\n",
        "    print(i)\n"
      ],
      "metadata": {
        "colab": {
          "base_uri": "https://localhost:8080/"
        },
        "id": "uBeBG_FsKkuo",
        "outputId": "1522a527-07c9-4654-e1b3-cff62434ec45"
      },
      "execution_count": 5,
      "outputs": [
        {
          "output_type": "stream",
          "name": "stdout",
          "text": [
            "Enter the query for search: indian cricket\n",
            "https://en.wikipedia.org/wiki/India_national_cricket_team\n",
            "https://www.bcci.tv/\n",
            "https://www.espncricinfo.com/team/india-6\n",
            "https://www.facebook.com/IndianCricketTeam/\n",
            "https://sports.ndtv.com/cricket/teams/6-india-teamprofile\n",
            "https://www.instagram.com/indiancricketteam/?hl=en\n",
            "https://www.sportskeeda.com/team/india-national-cricket-team\n",
            "https://www.indiancricketfans.com/forum/6-cricket-talk/\n",
            "https://www.cricbuzz.com/cricket-team/india/2\n",
            "https://www.cs.mcgill.ca/~rwest/wikispeedia/wpcd/wp/i/Indian_cricket_team.htm\n",
            "https://www.icc-cricket.com/teams/men/14/india/overview\n",
            "https://fivebooks.com/best-books/indian-cricket-prashant-kidambi/\n",
            "https://twitter.com/bcci\n",
            "https://www.sportskeeda.com/team/india-national-cricket-team\n",
            "https://www.indiancricketfans.com/forum/6-cricket-talk/\n",
            "https://www.cricbuzz.com/cricket-team/india/2\n",
            "https://www.cs.mcgill.ca/~rwest/wikispeedia/wpcd/wp/i/Indian_cricket_team.htm\n"
          ]
        }
      ]
    },
    {
      "cell_type": "markdown",
      "source": [
        "In addition, you can change the language google searches in. For example, to get results in French run the following program:"
      ],
      "metadata": {
        "id": "KUzeznFzLjYM"
      }
    },
    {
      "cell_type": "code",
      "source": [
        "query = input('\\033[1m' +\"Enter the query for search: \")\n",
        "print('\\033[0m')\n",
        "for i in search(query, lang=\"fr\"):\n",
        "    print(i)"
      ],
      "metadata": {
        "colab": {
          "base_uri": "https://localhost:8080/"
        },
        "id": "kqdr9kmPLcQx",
        "outputId": "90b3479f-05a9-473a-b300-7ab3ef3a1cd3"
      },
      "execution_count": 6,
      "outputs": [
        {
          "output_type": "stream",
          "name": "stdout",
          "text": [
            "Enter the query for search: football world cup\n",
            "https://www.fifa.com/tournaments/mens/worldcup/qatar2022\n",
            "https://en.wikipedia.org/wiki/FIFA_World_Cup\n",
            "https://www.foxsports.com/soccer/2022-fifa-world-cup/history\n",
            "https://www.espn.com/soccer/league/_/name/fifa.world\n",
            "https://www.instagram.com/fifaworldcup/\n",
            "https://fr-fr.facebook.com/fifaworldcup/\n",
            "https://www.fifa.com/tournaments/mens/worldcup\n",
            "https://www.foxsports.com/soccer/2022-fifa-world-cup\n",
            "https://www.espn.com/soccer/league/_/name/fifa.world\n",
            "https://twitter.com/fifaworldcup\n",
            "https://www.instagram.com/fifaworldcup/\n"
          ]
        }
      ]
    },
    {
      "cell_type": "markdown",
      "source": [
        "The following `search` function result top 5 related search in English language\n",
        "```\n",
        "googlesearch.search(str: term, int: num_results=10, str: lang=\"en\") -> list\n",
        "```\n",
        "\n"
      ],
      "metadata": {
        "id": "CmpwLyx6L4jn"
      }
    },
    {
      "cell_type": "code",
      "source": [
        "query = input('\\033[1m' + \"Enter the query for search: \")\n",
        "print('\\033[0m')\n",
        "for i in search(query, num_results=5, lang=\"de\"):\n",
        "    print(i)"
      ],
      "metadata": {
        "colab": {
          "base_uri": "https://localhost:8080/"
        },
        "id": "ZsHxgvwrLr82",
        "outputId": "d5978955-def1-4915-fbc6-b625c50834b7"
      },
      "execution_count": 8,
      "outputs": [
        {
          "output_type": "stream",
          "name": "stdout",
          "text": [
            "Enter the query for search: frohe Weihnachten\n",
            "https://stock.adobe.com/search?k=%22frohe+weihnachten%22\n",
            "https://en.bab.la/dictionary/german-english/froehliche-weihnachten\n",
            "https://en.wiktionary.org/wiki/frohe_Weihnachten\n",
            "https://pixabay.com/de/images/search/frohe%20weihnachten/\n",
            "https://pixabay.com/de/images/search/frohe%20weihnachten/\n"
          ]
        }
      ]
    },
    {
      "cell_type": "markdown",
      "source": [
        "#4. QR Code Generator"
      ],
      "metadata": {
        "id": "HRD5tuDeM-o4"
      }
    },
    {
      "cell_type": "markdown",
      "source": [
        "### Install the `pyqrcode`, `pypng` python package"
      ],
      "metadata": {
        "id": "kY2sS8IRNJLa"
      }
    },
    {
      "cell_type": "code",
      "source": [
        "!pip install pyqrcode"
      ],
      "metadata": {
        "colab": {
          "base_uri": "https://localhost:8080/"
        },
        "id": "leMQIabWMgUQ",
        "outputId": "07515920-e75b-45de-8d79-eaec4a3fc0fd"
      },
      "execution_count": 9,
      "outputs": [
        {
          "output_type": "stream",
          "name": "stdout",
          "text": [
            "Looking in indexes: https://pypi.org/simple, https://us-python.pkg.dev/colab-wheels/public/simple/\n",
            "Collecting pyqrcode\n",
            "  Downloading PyQRCode-1.2.1.zip (41 kB)\n",
            "\u001b[K     |████████████████████████████████| 41 kB 734 kB/s \n",
            "\u001b[?25hBuilding wheels for collected packages: pyqrcode\n",
            "  Building wheel for pyqrcode (setup.py) ... \u001b[?25l\u001b[?25hdone\n",
            "  Created wheel for pyqrcode: filename=PyQRCode-1.2.1-py3-none-any.whl size=36245 sha256=7fddfeba6604e853af527c019469e37237cf7a0a1082fb8706811432589b29e6\n",
            "  Stored in directory: /root/.cache/pip/wheels/e6/5e/b1/e42b38f43c94593ea57059de7e585c009c0f54e36e1a532992\n",
            "Successfully built pyqrcode\n",
            "Installing collected packages: pyqrcode\n",
            "Successfully installed pyqrcode-1.2.1\n"
          ]
        }
      ]
    },
    {
      "cell_type": "code",
      "source": [
        "!pip install pypng"
      ],
      "metadata": {
        "colab": {
          "base_uri": "https://localhost:8080/"
        },
        "id": "lulzvpWkPDds",
        "outputId": "496f85d5-8647-481d-bd8e-c8f7121f5efe"
      },
      "execution_count": 12,
      "outputs": [
        {
          "output_type": "stream",
          "name": "stdout",
          "text": [
            "Looking in indexes: https://pypi.org/simple, https://us-python.pkg.dev/colab-wheels/public/simple/\n",
            "Collecting pypng\n",
            "  Downloading pypng-0.20220715.0-py3-none-any.whl (58 kB)\n",
            "\u001b[K     |████████████████████████████████| 58 kB 2.9 MB/s \n",
            "\u001b[?25hInstalling collected packages: pypng\n",
            "Successfully installed pypng-0.20220715.0\n"
          ]
        }
      ]
    },
    {
      "cell_type": "markdown",
      "source": [
        "### Import the package"
      ],
      "metadata": {
        "id": "owzWFY0uNZGK"
      }
    },
    {
      "cell_type": "code",
      "source": [
        "import pyqrcode\n",
        "from PIL import Image\n",
        "import matplotlib.pyplot as plt\n",
        "import glob"
      ],
      "metadata": {
        "id": "rQlB3ULaNMvO"
      },
      "execution_count": 13,
      "outputs": []
    },
    {
      "cell_type": "markdown",
      "source": [
        "Define the function "
      ],
      "metadata": {
        "id": "mty8n1lgOIa7"
      }
    },
    {
      "cell_type": "code",
      "source": [
        "def qrcode(query):\n",
        "    q=pyqrcode.create(query)\n",
        "    q.png('qrcode.png',scale=6)\n",
        "    print('QR generated')\n",
        "    im = Image.open('qrcode.png')\n",
        "    plt.figure()\n",
        "    plt.axis('off')\n",
        "    plt.imshow(im)\n",
        "    plt.show()\n"
      ],
      "metadata": {
        "id": "7hu8aeC6OFhf"
      },
      "execution_count": 16,
      "outputs": []
    },
    {
      "cell_type": "markdown",
      "source": [
        "Call the `qrcode` function for QR code generation"
      ],
      "metadata": {
        "id": "XCEvpvrJN7ri"
      }
    },
    {
      "cell_type": "code",
      "source": [
        "query = input('\\033[1m' + \"Enter the text for QR Code generation: \")\n",
        "print('\\033[0m')\n",
        "qrcode(query)    "
      ],
      "metadata": {
        "colab": {
          "base_uri": "https://localhost:8080/",
          "height": 283
        },
        "id": "dBzs8109N5-U",
        "outputId": "3a236038-9c82-4898-eb5b-cde91d932c67"
      },
      "execution_count": 18,
      "outputs": [
        {
          "output_type": "stream",
          "name": "stdout",
          "text": [
            "Enter the text for QR Code generation: India is best\n",
            "QR generated\n"
          ]
        },
        {
          "output_type": "display_data",
          "data": {
            "text/plain": [
              "<Figure size 432x288 with 1 Axes>"
            ],
            "image/png": "[encoded data removed]"
          },
          "metadata": {
            "needs_background": "light"
          }
        }
      ]
    },
    {
      "cell_type": "code",
      "source": [
        "query = input('\\033[1m' + \"Enter the text for QR Code generation: \")\n",
        "print('\\033[0m')\n",
        "qrcode(query) "
      ],
      "metadata": {
        "colab": {
          "base_uri": "https://localhost:8080/",
          "height": 283
        },
        "id": "EoLGZ_giPLX2",
        "outputId": "c16a767d-87ae-4644-a275-218625151bb9"
      },
      "execution_count": 19,
      "outputs": [
        {
          "output_type": "stream",
          "name": "stdout",
          "text": [
            "Enter the text for QR Code generation: you are stupid!!!\n",
            "QR generated\n"
          ]
        },
        {
          "output_type": "display_data",
          "data": {
            "text/plain": [
              "<Figure size 432x288 with 1 Axes>"
            ],
            "image/png": "[encoded data removed]"
          },
          "metadata": {
            "needs_background": "light"
          }
        }
      ]
    },
    {
      "cell_type": "markdown",
      "source": [
        "#5. URL Extractor"
      ],
      "metadata": {
        "id": "-C9LTA9wQ9wk"
      }
    },
    {
      "cell_type": "markdown",
      "source": [
        "### Import the `requests`, `urllib` packages"
      ],
      "metadata": {
        "id": "MO6zIuGhRGbB"
      }
    },
    {
      "cell_type": "code",
      "source": [
        "import requests\n",
        "import urllib\n",
        "import codecs"
      ],
      "metadata": {
        "id": "_C2KxnuIQHRD"
      },
      "execution_count": 43,
      "outputs": []
    },
    {
      "cell_type": "code",
      "source": [
        "link = \"https://wallpapers.iskcondesiretree.com/\"\n",
        "\n",
        "page = urllib.request.urlopen(link)\n",
        "print('\\033[1m' + \"\\nPAGE HEADERS\")\n",
        "print('\\033[0m')\n",
        "print(page.headers)\n",
        "print('\\033[1m' +\"\\nPAGE STATUS\")\n",
        "print('\\033[0m')\n",
        "print(page.status)\n",
        "print('\\033[1m' +\"\\nPAGE isclosed\")\n",
        "print('\\033[0m')\n",
        "print(page.isclosed())\n",
        "print('\\033[1m' +\"\\nPage read\")\n",
        "print('\\033[0m')\n",
        "print(page.read().decode('UTF-8'))\n"
      ],
      "metadata": {
        "colab": {
          "base_uri": "https://localhost:8080/"
        },
        "id": "-r_-JSS1RL9S",
        "outputId": "b037feed-0333-4950-91f4-824946bd06e2"
      },
      "execution_count": 47,
      "outputs": [
        {
          "output_type": "stream",
          "name": "stdout",
          "text": [
            "\u001b[1m\n",
            "PAGE HEADERS\n",
            "\u001b[0m\n",
            "Date: Mon, 26 Dec 2022 16:48:31 GMT\n",
            "Server: Apache\n",
            "Link: <https://wallpapers.iskcondesiretree.com/wp-json/>; rel=\"https://api.w.org/\"\n",
            "Vary: Accept-Encoding,User-Agent\n",
            "Connection: close\n",
            "Transfer-Encoding: chunked\n",
            "Content-Type: text/html; charset=UTF-8\n",
            "\n",
            "\n",
            "\u001b[1m\n",
            "PAGE STATUS\n",
            "\u001b[0m\n",
            "200\n",
            "\u001b[1m\n",
            "PAGE isclosed\n",
            "\u001b[0m\n",
            "False\n",
            "\u001b[1m\n",
            "Page read\n",
            "\u001b[0m\n",
            "<!DOCTYPE html>\n",
            "<!--[if IE 6]>\n",
            "<html id=\"ie6\" lang=\"en-US\">\n",
            "<![endif]-->\n",
            "<!--[if IE 7]>\n",
            "<html id=\"ie7\" lang=\"en-US\">\n",
            "<![endif]-->\n",
            "<!--[if IE 8]>\n",
            "<html id=\"ie8\" lang=\"en-US\">\n",
            "<![endif]-->\n",
            "<!--[if !(IE 6) | !(IE 7) | !(IE 8)  ]><!-->\n",
            "<html lang=\"en-US\">\n",
            "<!--<![endif]-->\n",
            "<head>\n",
            "        <meta name=\"p:domain_verify\" content=\"9636591b94f4488bf1dc3515fc72c717\"/>\n",
            "\t<meta charset=\"UTF-8\" />\n",
            "\t<title>ISKCON Desire Tree Wallpapers, Hare Krishna Wallpapers</title>\n",
            "\t\t\t\n",
            "\t\n",
            "\t<link rel=\"pingback\" href=\"https://wallpapers.iskcondesiretree.com/xmlrpc.php\" />\n",
            "\n",
            "\t<script type=\"text/javascript\">\n",
            "\t\tdocument.documentElement.className = 'js';\n",
            "\t</script>\n",
            "\n",
            "\t\n",
            "<!-- All in One SEO Pack 3.2.10 by Michael Torbert of Semper Fi Web Designob_start_detected [-1,-1] -->\n",
            "<meta name=\"description\"  content=\"Free download of high quality beautiful wallpapers and desktop backgrounds from huge collection of spiritual wallpapers categorized theme wise .\" />\n",
            "\n",
            "<meta name=\"keywords\"  content=\"sri krishna wallpapers, devotional wallpapers download, lord sri krishna photos, deities wallpapers, ISKCON Desire Tree Wallpapers, ISKCON Wallpapers\" />\n",
            "<link rel=\"next\" href=\"https://wallpapers.iskcondesiretree.com/page/2\" />\n",
            "\n",
            "<script type=\"application/ld+json\" class=\"aioseop-schema\">{\"@context\":\"https://schema.org\",\"@graph\":[{\"@type\":\"Organization\",\"@id\":\"https://wallpapers.iskcondesiretree.com/#organization\",\"url\":\"https://wallpapers.iskcondesiretree.com/\",\"name\":\"Hare Krishna Wallpapers\",\"sameAs\":[]},{\"@type\":\"WebSite\",\"@id\":\"https://wallpapers.iskcondesiretree.com/#website\",\"url\":\"https://wallpapers.iskcondesiretree.com/\",\"name\":\"Hare Krishna Wallpapers\",\"publisher\":{\"@id\":\"https://wallpapers.iskcondesiretree.com/#organization\"}},{\"@type\":\"WebPage\",\"@id\":\"https://wallpapers.iskcondesiretree.com/#webpage\",\"url\":\"https://wallpapers.iskcondesiretree.com/\",\"inLanguage\":\"en-US\",\"name\":\"Hare Krishna Wallpapers\",\"isPartOf\":{\"@id\":\"https://wallpapers.iskcondesiretree.com/#website\"},\"about\":{\"@id\":\"https://wallpapers.iskcondesiretree.com/#organization\"},\"description\":\"Free download of high quality beautiful spiritual wallpapers\"}]}</script>\n",
            "<link rel=\"canonical\" href=\"https://wallpapers.iskcondesiretree.com/\" />\n",
            "<!-- All in One SEO Pack -->\n",
            "<link rel='dns-prefetch' href='//fonts.googleapis.com' />\n",
            "<link rel='dns-prefetch' href='//s.w.org' />\n",
            "<link rel=\"alternate\" type=\"application/rss+xml\" title=\"Hare Krishna Wallpapers &raquo; Feed\" href=\"https://wallpapers.iskcondesiretree.com/feed\" />\n",
            "<link rel=\"alternate\" type=\"application/rss+xml\" title=\"Hare Krishna Wallpapers &raquo; Comments Feed\" href=\"https://wallpapers.iskcondesiretree.com/comments/feed\" />\n",
            "\t\t<script type=\"text/javascript\">\n",
            "\t\t\twindow._wpemojiSettings = {\"baseUrl\":\"https:\\/\\/s.w.org\\/images\\/core\\/emoji\\/11\\/72x72\\/\",\"ext\":\".png\",\"svgUrl\":\"https:\\/\\/s.w.org\\/images\\/core\\/emoji\\/11\\/svg\\/\",\"svgExt\":\".svg\",\"source\":{\"concatemoji\":\"https:\\/\\/wallpapers.iskcondesiretree.com\\/wp-includes\\/js\\/wp-emoji-release.min.js?ver=5.0.18\"}};\n",
            "\t\t\t!function(e,a,t){var n,r,o,i=a.createElement(\"canvas\"),p=i.getContext&&i.getContext(\"2d\");function s(e,t){var a=String.fromCharCode;p.clearRect(0,0,i.width,i.height),p.fillText(a.apply(this,e),0,0);e=i.toDataURL();return p.clearRect(0,0,i.width,i.height),p.fillText(a.apply(this,t),0,0),e===i.toDataURL()}function c(e){var t=a.createElement(\"script\");t.src=e,t.defer=t.type=\"text/javascript\",a.getElementsByTagName(\"head\")[0].appendChild(t)}for(o=Array(\"flag\",\"emoji\"),t.supports={everything:!0,everythingExceptFlag:!0},r=0;r<o.length;r++)t.supports[o[r]]=function(e){if(!p||!p.fillText)return!1;switch(p.textBaseline=\"top\",p.font=\"600 32px Arial\",e){case\"flag\":return s([55356,56826,55356,56819],[55356,56826,8203,55356,56819])?!1:!s([55356,57332,56128,56423,56128,56418,56128,56421,56128,56430,56128,56423,56128,56447],[55356,57332,8203,56128,56423,8203,56128,56418,8203,56128,56421,8203,56128,56430,8203,56128,56423,8203,56128,56447]);case\"emoji\":return!s([55358,56760,9792,65039],[55358,56760,8203,9792,65039])}return!1}(o[r]),t.supports.everything=t.supports.everything&&t.supports[o[r]],\"flag\"!==o[r]&&(t.supports.everythingExceptFlag=t.supports.everythingExceptFlag&&t.supports[o[r]]);t.supports.everythingExceptFlag=t.supports.everythingExceptFlag&&!t.supports.flag,t.DOMReady=!1,t.readyCallback=function(){t.DOMReady=!0},t.supports.everything||(n=function(){t.readyCallback()},a.addEventListener?(a.addEventListener(\"DOMContentLoaded\",n,!1),e.addEventListener(\"load\",n,!1)):(e.attachEvent(\"onload\",n),a.attachEvent(\"onreadystatechange\",function(){\"complete\"===a.readyState&&t.readyCallback()})),(n=t.source||{}).concatemoji?c(n.concatemoji):n.wpemoji&&n.twemoji&&(c(n.twemoji),c(n.wpemoji)))}(window,document,window._wpemojiSettings);\n",
            "\t\t</script>\n",
            "\t\t<meta content=\"Origin v.1.7\" name=\"generator\"/><style type=\"text/css\">\n",
            "img.wp-smiley,\n",
            "img.emoji {\n",
            "\tdisplay: inline !important;\n",
            "\tborder: none !important;\n",
            "\tbox-shadow: none !important;\n",
            "\theight: 1em !important;\n",
            "\twidth: 1em !important;\n",
            "\tmargin: 0 .07em !important;\n",
            "\tvertical-align: -0.1em !important;\n",
            "\tbackground: none !important;\n",
            "\tpadding: 0 !important;\n",
            "}\n",
            "</style>\n",
            "<link rel='stylesheet' id='wp-block-library-css'  href='https://wallpapers.iskcondesiretree.com/wp-includes/css/dist/block-library/style.min.css?ver=5.0.18' type='text/css' media='all' />\n",
            "<link rel='stylesheet' id='et-gf-open-sans-css'  href='https://fonts.googleapis.com/css?family=Open+Sans:400,700' type='text/css' media='all' />\n",
            "<link rel='stylesheet' id='et_monarch-css-css'  href='https://wallpapers.iskcondesiretree.com/wp-content/plugins/monarch/css/style.css?ver=1.2.7.2' type='text/css' media='all' />\n",
            "<link rel='stylesheet' id='origin-fonts-css'  href='https://fonts.googleapis.com/css?family=Open+Sans:300italic,700italic,800italic,400,300,700,800&#038;subset=latin,latin-ext' type='text/css' media='all' />\n",
            "<link rel='stylesheet' id='origin-style-css'  href='https://wallpapers.iskcondesiretree.com/wp-content/themes/hare-krishna-wallpapers/style.css?ver=5.0.18' type='text/css' media='all' />\n",
            "<link rel='stylesheet' id='et-shortcodes-css-css'  href='https://wallpapers.iskcondesiretree.com/wp-content/themes/hare-krishna-wallpapers/epanel/shortcodes/css/shortcodes.css?ver=3.0' type='text/css' media='all' />\n",
            "<link rel='stylesheet' id='et-shortcodes-responsive-css-css'  href='https://wallpapers.iskcondesiretree.com/wp-content/themes/hare-krishna-wallpapers/epanel/shortcodes/css/shortcodes_responsive.css?ver=3.0' type='text/css' media='all' />\n",
            "<link rel='stylesheet' id='fancybox-css'  href='https://wallpapers.iskcondesiretree.com/wp-content/themes/hare-krishna-wallpapers/epanel/page_templates/js/fancybox/jquery.fancybox-1.3.4.css?ver=1.3.4' type='text/css' media='screen' />\n",
            "<link rel='stylesheet' id='et_page_templates-css'  href='https://wallpapers.iskcondesiretree.com/wp-content/themes/hare-krishna-wallpapers/epanel/page_templates/page_templates.css?ver=1.8' type='text/css' media='screen' />\n",
            "<script>if (document.location.protocol != \"https:\") {document.location = document.URL.replace(/^http:/i, \"https:\");}</script><script type='text/javascript' src='https://wallpapers.iskcondesiretree.com/wp-includes/js/jquery/jquery.js?ver=1.12.4'></script>\n",
            "<script type='text/javascript' src='https://wallpapers.iskcondesiretree.com/wp-includes/js/jquery/jquery-migrate.min.js?ver=1.4.1'></script>\n",
            "<link rel='https://api.w.org/' href='https://wallpapers.iskcondesiretree.com/wp-json/' />\n",
            "<link rel=\"EditURI\" type=\"application/rsd+xml\" title=\"RSD\" href=\"https://wallpapers.iskcondesiretree.com/xmlrpc.php?rsd\" />\n",
            "<link rel=\"wlwmanifest\" type=\"application/wlwmanifest+xml\" href=\"https://wallpapers.iskcondesiretree.com/wp-includes/wlwmanifest.xml\" /> \n",
            "<meta name=\"generator\" content=\"WordPress 5.0.18\" />\n",
            "<style type=\"text/css\" id=\"et-social-custom-css\">\n",
            "\t\t\t\t \n",
            "\t\t\t</style>\t\t<style>\n",
            "\t\t\t#info-bg, #main-wrap:before { background: #6ab3b2; }\n",
            "\t\t\t#top-menu a:hover .link_text, .current-menu-item > a, #top-menu .current-menu-item > a:hover, #top-menu .current-menu-item > a:hover .link_bg, .et_active_dropdown > li a, #top-menu .et_clicked, #mobile-nav { color: #6ab3b2; }\n",
            "\n",
            "\t\t\t@media only screen and (max-width: 1023px){\n",
            "\t\t\t\t#info-area { background: #6ab3b2; }\n",
            "\t\t\t}\n",
            "\n",
            "\t\t\t.widget, #top-menu a, #mobile-nav, #info-area, #info-bg, #top-menu { border-color: #5EA5A4; }\n",
            "\n",
            "\t\t\t.current-menu-item > a, .et_active_dropdown > li a, #top-menu .et_clicked, #mobile-nav, #top-menu a:hover .link_bg, #top-menu .current-menu-item > a:hover, #top-menu .current-menu-item > a:hover .link_bg { background: #fff; }\n",
            "\n",
            "\t\t\t#top-menu ul ul a:hover .link_bg { background: #f8f8f8; }\n",
            "\n",
            "\t\t\t\t</style>\n",
            "\t<link rel=\"shortcut icon\" href=\"https://wallpapers.iskcondesiretree.com/wp-content/uploads/2015/06/iskcon-desire-wallpaper.png\" /><meta name=\"viewport\" content=\"width=device-width, initial-scale=1.0, maximum-scale=1.0, user-scalable=0\" /><style type=\"text/css\" id=\"et-custom-css\">\n",
            ".widget {padding: 20px 35px 15px 30px;}\n",
            ".textwidget {margin: 0px;}\n",
            "</style>\n",
            "\t<!--[if lt IE 9]>\n",
            "\t\t<script src=\"https://wallpapers.iskcondesiretree.com/wp-content/themes/hare-krishna-wallpapers/js/html5.js\" type=\"text/javascript\"></script>\n",
            "\t\t<script src=\"https://wallpapers.iskcondesiretree.com/wp-content/themes/hare-krishna-wallpapers/js/respond.min.js\" type=\"text/javascript\"></script>\n",
            "\t<![endif]-->\n",
            "</head>\n",
            "<body data-rsssl=1 class=\"home blog et_monarch unknown et_includes_sidebar\">\n",
            "\t<div id=\"main-wrap\" class=\"clearfix\">\n",
            "\t\t\n",
            "\t\t<div id=\"info-bg\"></div>\n",
            "\n",
            "\t\t<div id=\"info-area\">\n",
            "\t\t\t<div id=\"logo-area\">\n",
            "\t\t\t\t\t\t\t\t<a href=\"https://wallpapers.iskcondesiretree.com/\"><img src=\"https://wallpapers.iskcondesiretree.com/wp-content/uploads/2013/06/harekrishnawallpapers.png\" alt=\"Hare Krishna Wallpapers\" id=\"logo\"/></a>\n",
            "\t\t\t</div> <!-- #logo-area -->\n",
            "\n",
            "\t\t\t\n",
            "\t\t\t<span id=\"mobile-nav\">Navigation Menu<span>+</span></span>\n",
            "\n",
            "\t\t\t<nav id=\"top-menu\">\n",
            "\t\t\t\t<ul id=\"menu-header\" class=\"nav\"><li id=\"menu-item-251696\" class=\"menu-item menu-item-type-custom menu-item-object-custom current-menu-item current_page_item menu-item-home menu-item-251696\"><a title=\"Home\" href=\"https://wallpapers.iskcondesiretree.com\">Home</a></li>\n",
            "<li id=\"menu-item-280921\" class=\"menu-item menu-item-type-post_type menu-item-object-page menu-item-280921\"><a href=\"https://wallpapers.iskcondesiretree.com/category\">Category</a></li>\n",
            "<li id=\"menu-item-195377\" class=\"menu-item menu-item-type-post_type menu-item-object-page menu-item-195377\"><a title=\"Subscribe \" href=\"https://wallpapers.iskcondesiretree.com/subscribe\">Subscribe</a></li>\n",
            "<li id=\"menu-item-117925\" class=\"menu-item menu-item-type-post_type menu-item-object-page menu-item-117925\"><a title=\"FAQ\" href=\"https://wallpapers.iskcondesiretree.com/faq\">FAQ</a></li>\n",
            "<li id=\"menu-item-14800\" class=\"menu-item menu-item-type-post_type menu-item-object-page menu-item-14800\"><a title=\"Join Us\" href=\"https://wallpapers.iskcondesiretree.com/join-us\">Join Us</a></li>\n",
            "<li id=\"menu-item-252970\" class=\"menu-item menu-item-type-custom menu-item-object-custom menu-item-252970\"><a title=\"ISKCON Desire Tree\" href=\"https://iskcondesiretree.com\">ISKCON Desire Tree</a></li>\n",
            "</ul>\t\t\t</nav>\n",
            "\n",
            "\t\t\t\t<div id=\"sidebar\">\n",
            "\t\t<div id=\"media_image-2\" class=\"widget widget_media_image\"><h4 class=\"widgettitle\">Watch 24X7 Television Channel</h4><a href=\"https://www.harekrsnatv.com/\"><img width=\"1024\" height=\"576\" src=\"https://wallpapers.iskcondesiretree.com/wp-content/uploads/2020/10/orange-Thumbnail--1024x576.jpg\" class=\"image wp-image-280925  attachment-large size-large\" alt=\"\" style=\"max-width: 100%; height: auto;\" srcset=\"https://wallpapers.iskcondesiretree.com/wp-content/uploads/2020/10/orange-Thumbnail--1024x576.jpg 1024w, https://wallpapers.iskcondesiretree.com/wp-content/uploads/2020/10/orange-Thumbnail--300x169.jpg 300w, https://wallpapers.iskcondesiretree.com/wp-content/uploads/2020/10/orange-Thumbnail--768x432.jpg 768w, https://wallpapers.iskcondesiretree.com/wp-content/uploads/2020/10/orange-Thumbnail-.jpg 1280w\" sizes=\"(max-width: 1024px) 100vw, 1024px\" /></a></div> <!-- end .widget --><div id=\"text-16\" class=\"widget widget_text\"><h4 class=\"widgettitle\">Follow us on</h4>\t\t\t<div class=\"textwidget\"><a href=\"https://www.facebook.com/harekrishnawallpapers\" target=\"_blank\"><img src=\"https://wallpapers.iskcondesiretree.com/wp-content/uploads/2019/01/8995337303_7e5eaee23c_o.png\" />\n",
            "\n",
            "</a>\n",
            "</a>&nbsp;<a href=\"https://twitter.com/hkwallpapers\" target=\"_blank\"><img src=\"https://farm6.staticflickr.com/5442/8996524686_a664334d69_o.png\" /></a>&nbsp;<a href=\"https://plus.google.com/111691522873486002527/\" target=\"_blank\"><img src=\"https://farm6.staticflickr.com/5461/8995337017_ff1304202b_o.png\" /></a>&nbsp;<a href=\"https://in.pinterest.com/hkwallpapers/\" target=\"_blank\"><img src=\"https://farm8.staticflickr.com/7452/8995337245_9d59cd1c89_o.png\" /></a>&nbsp;<a href=\"https://www.flickr.com/photos/harekrishnawallpapers/\" target=\"_blank\"><img src=\"https://farm8.staticflickr.com/7392/9004201708_3a991fb848_o.png\" /></a>&nbsp;<a href=\"https://feedburner.google.com/fb/a/mailverify?uri=hare-krishna-wallpapers\" target=\"_blank\"><img src=\"https://farm6.staticflickr.com/5338/9003022491_df5bf91955_o.png\" /></a></div>\n",
            "\t\t</div> <!-- end .widget --><div id=\"text-13\" class=\"widget widget_text\"><h4 class=\"widgettitle\"> </h4>\t\t\t<div class=\"textwidget\"><div>\n",
            "\t\t\t<div>\n",
            "\t\t\t\t<sapn style=\"font-size: 14px;\"><strong>Art Work Wallpapers</strong></sapn></div>\n",
            "\t\t\t<div>\n",
            "\t\t\t\t&nbsp;</div>\n",
            "\t\t\t<div>\n",
            "\t\t\t\t<a href=\"https://wallpapers.iskcondesiretree.com/category/categories/art-work/chaitanya-mahaprabhu/\" title=\"View all posts filed under Chaitanya Mahaprabhu\">Chaitanya Mahaprabhu</a>&nbsp;<a href=\"https://wallpapers.iskcondesiretree.com/category/categories/art-work/damodar/\" title=\"View all posts filed under Damodar\">Damodar</a>&nbsp;<a href=\"https://wallpapers.iskcondesiretree.com/category/categories/art-work/devotees/\" title=\"View all posts filed under Devotees\">Devotees</a>&nbsp;<a href=\"https://wallpapers.iskcondesiretree.com/category/categories/art-work/ekadashi/\" title=\"View all posts filed under Ekadashi\">Ekadashi</a>&nbsp;<a href=\"https://wallpapers.iskcondesiretree.com/category/categories/art-work/holy-name/\" title=\"View all posts filed under Holy Name\">Holy Name</a>&nbsp;<a href=\"https://wallpapers.iskcondesiretree.com/category/categories/art-work/i-love-you/\" title=\"View all posts filed under I Love You\">I Love You</a>&nbsp;<a href=\"https://wallpapers.iskcondesiretree.com/category/categories/art-work/jai-jagannath/\" title=\"View all posts filed under Jai Jagannath\">Jai Jagannath</a>&nbsp;<a href=\"https://wallpapers.iskcondesiretree.com/category/categories/art-work/kalki/\" title=\"View all posts filed under Kalki\">Kalki</a>&nbsp;<a href=\"https://wallpapers.iskcondesiretree.com/category/categories/art-work/kirtan/\" title=\"View all posts filed under Kirtan\">Kirtan</a>&nbsp;<a href=\"https://wallpapers.iskcondesiretree.com/category/categories/art-work/krishna/\" title=\"View all posts filed under Krishna\">Krishna</a>&nbsp;<a href=\"https://wallpapers.iskcondesiretree.com/category/categories/art-work/krishna-balaram/\" title=\"View all posts filed under Krishna Balaram\">Krishna Balaram</a>&nbsp;<a href=\"https://wallpapers.iskcondesiretree.com/category/categories/art-work/lotus-feet/\" title=\"View all posts filed under Lotus Feet\">Lotus Feet</a>&nbsp;<a href=\"https://wallpapers.iskcondesiretree.com/category/categories/art-work/radha-krishna/\" title=\"View all posts filed under Radha Krishna\">Radha Krishna</a>&nbsp;<a href=\"https://wallpapers.iskcondesiretree.com/category/categories/art-work/shrinathji/\" title=\"View all posts filed under Shrinathji\">Shrinathji</a>&nbsp;<a href=\"https://wallpapers.iskcondesiretree.com/category/categories/art-work/sri-narasimha-deva-art-work/\" title=\"View all posts filed under Sri Narasimha Deva\">Narasimha Deva</a>&nbsp;<a href=\"https://wallpapers.iskcondesiretree.com/category/categories/art-work/sri-rama/\" title=\"View all posts filed under Sri Rama\">Rama</a>&nbsp;<a href=\"https://wallpapers.iskcondesiretree.com/category/categories/art-work/sri-sri-radha-gopinath-art-work/\" title=\"View all posts filed under Sri Sri Radha Gopinath\">Radha Gopinath</a>&nbsp;<a href=\"https://wallpapers.iskcondesiretree.com/category/categories/art-work/sri-vishnu/\" title=\"View all posts filed under Sri Vishnu\">Vishnu</a>&nbsp;<a href=\"https://wallpapers.iskcondesiretree.com/category/categories/art-work/sri-vitthal/\" title=\"View all posts filed under Sri Vitthal\">Vitthal</a>&nbsp;<a href=\"https://wallpapers.iskcondesiretree.com/category/categories/art-work/srimati-radharani-art-work/\" title=\"View all posts filed under Srimati Radharani\">Radharani</a>&nbsp;<a href=\"https://wallpapers.iskcondesiretree.com/category/categories/art-work/valentine-day/\" title=\"View all posts filed under Valentine Day\">Valentine Day</a></div>\n",
            "\t\t</div>\n",
            "\t\t<div>\n",
            "\t\t\t&nbsp;</div>\n",
            "\t\t<div>\n",
            "\t\t\t<sapn style=\"font-size: 14px;\"><strong>ISKCON Deities Wallpapers</strong></sapn><br />\n",
            "\t\t\t&nbsp;</div>\n",
            "\t\t<div>\n",
            "\t\t\tISKCON Allahabad&nbsp;<a href=\"https://wallpapers.iskcondesiretree.com/category/categories/iskcon-deities/iskcon-allahabad/sri-radha-close-up-iskcon-allahabad/\" title=\"View all wallpapers of Sri Radha Close up\">Radha Close up</a>&nbsp;<a href=\"https://wallpapers.iskcondesiretree.com/category/categories/iskcon-deities/iskcon-allahabad/sri-sri-radha-venimadhava/\" title=\"View all wallpapers of Sri Sri Radha Venimadhava\">Radha Venimadhava</a>&nbsp;<a href=\"https://wallpapers.iskcondesiretree.com/category/categories/iskcon-deities/iskcon-allahabad/sri-sri-radha-venimadhava-close-up/\" title=\"View all wallpapers of Sri Sri Radha Venimadhava Close up\">Radha Venimadhava Close up</a>&nbsp;<a href=\"https://wallpapers.iskcondesiretree.com/category/categories/iskcon-deities/iskcon-allahabad/sri-venimadhava-close-up/\" title=\"View all wallpapers of Sri Venimadhava Close up\">Venimadhava Close up</a>&nbsp;<br />\n",
            "\t\t\t&nbsp;</div>\n",
            "\t\t<div>\n",
            "\t\t\tISKCON Aravade&nbsp;<a href=\"https://wallpapers.iskcondesiretree.com/category/categories/iskcon-deities/iskcon-aravade/sri-sri-radha-gopal/\" title=\"View all wallpapers of Sri Sri Radha Gopal\">Radha Gopal</a>&nbsp;<a href=\"https://wallpapers.iskcondesiretree.com/category/categories/iskcon-deities/iskcon-aravade/sri-sri-radha-gopal-close-up/\" title=\"View all wallpapers of Sri Sri Radha Gopal Close up\">Radha Gopal Close up</a></div>\n",
            "\t\t<div>\n",
            "\t\t\t&nbsp;</div>\n",
            "\t\t<div>\n",
            "\t\t\tISKCON Baku&nbsp;<a href=\"https://wallpapers.iskcondesiretree.com/category/categories/iskcon-deities/iskcon-baku/sri-gaura-close-up-iskcon-baku/\" title=\"View all wallpapers of Sri Gaura Close up\">Gaura Close up</a>&nbsp;<a href=\"https://wallpapers.iskcondesiretree.com/category/categories/iskcon-deities/iskcon-baku/sri-nitai-close-up-iskcon-baku/\" title=\"View all wallpapers of Sri Nitai Close up\">Nitai Close up</a></div>\n",
            "\t\t<div>\n",
            "\t\t\t&nbsp;</div>\n",
            "\t\t<div>\n",
            "\t\t\tISKCON Bangalore&nbsp;<a href=\"https://wallpapers.iskcondesiretree.com/category/categories/iskcon-deities/iskcon-bangalore/jagannath-baldeva-subhadra-iskcon-bangalore/\" title=\"View all posts filed under Jagannath Baldeva Subhadra\">Jagannath Baldeva Subhadra</a><br />\n",
            "\t\t\t&nbsp;</div>\n",
            "\t\t<div>\n",
            "\t\t\tISKCON Bhaktivedanta Manor&nbsp;<a href=\"https://wallpapers.iskcondesiretree.com/category/categories/iskcon-deities/iskcon-bhaktivedanta-manor/sri-gokulananda-close-up-iskcon-bhaktivedanta-manor/\" title=\"View all wallpapers of Sri Gokulananda Close up\">Gokulananda Close up</a>&nbsp;<a href=\"https://wallpapers.iskcondesiretree.com/category/categories/iskcon-deities/iskcon-bhaktivedanta-manor/sri-gokulananda-feet/\" title=\"View all wallpapers of Sri Gokulananda Feet\">Gokulananda Feet</a>&nbsp;<a href=\"https://wallpapers.iskcondesiretree.com/category/categories/iskcon-deities/iskcon-bhaktivedanta-manor/sri-hanuman/\" title=\"View all wallpapers of Sri Hanuman\">Hanuman</a>&nbsp;<a href=\"https://wallpapers.iskcondesiretree.com/category/categories/iskcon-deities/iskcon-bhaktivedanta-manor/sri-hanuman-close-up/\" title=\"View all wallpapers of Sri Hanuman Close up\">Hanuman Close up</a>&nbsp;<a href=\"https://wallpapers.iskcondesiretree.com/category/categories/iskcon-deities/iskcon-bhaktivedanta-manor/sri-radha-close-up-iskcon-bhaktivedanta-manor/\" title=\"View all wallpapers of Sri Radha Close up\">Radha Close up</a>&nbsp;<a href=\"https://wallpapers.iskcondesiretree.com/category/categories/iskcon-deities/iskcon-bhaktivedanta-manor/sri-rama-close-up/\" title=\"View all wallpapers of Sri Rama Close up\">Rama Close up</a>&nbsp;<a href=\"https://wallpapers.iskcondesiretree.com/category/categories/iskcon-deities/iskcon-bhaktivedanta-manor/sri-rama-feet/\" title=\"View all wallpapers of Sri Rama Feet\">Rama Feet</a>&nbsp;<a href=\"https://wallpapers.iskcondesiretree.com/category/categories/iskcon-deities/iskcon-bhaktivedanta-manor/sri-sita-close-up/\" title=\"View all wallpapers of Sri Sita Close up\">Sita Close up</a>&nbsp;<a href=\"https://wallpapers.iskcondesiretree.com/category/categories/iskcon-deities/iskcon-bhaktivedanta-manor/sri-sri-radha-gokulanand-close-up/\" title=\"View all wallpapers of Sri Sri Radha Gokulanand Close up\">Radha Gokulanand Close up</a>&nbsp;<a href=\"https://wallpapers.iskcondesiretree.com/category/categories/iskcon-deities/iskcon-bhaktivedanta-manor/sri-sri-radha-gokulananda-iskcon-bhaktivedanta-manor/\" title=\"View all wallpapers of Sri Sri Radha Gokulananda\">Radha Gokulananda</a>&nbsp;<a href=\"https://wallpapers.iskcondesiretree.com/category/categories/iskcon-deities/iskcon-bhaktivedanta-manor/sri-sri-sita-rama-close-up/\" title=\"View all wallpapers of Sri Sri Sita Rama Close up\">Sita Rama Close up</a>&nbsp;<a href=\"https://wallpapers.iskcondesiretree.com/category/categories/iskcon-deities/iskcon-bhaktivedanta-manor/sri-sri-sita-rama-laxman-close-up/\" title=\"View all wallpapers of Sri Sri Sita Rama Laxman Close up\">Sita Rama Laxman Close up</a>&nbsp;<a href=\"https://wallpapers.iskcondesiretree.com/category/categories/iskcon-deities/iskcon-bhaktivedanta-manor/sri-sri-sita-rama-laxman-hanuman-iskcon-bhaktivedanta-manor/\" title=\"View all wallpapers of Sri Sri Sita Rama Laxman Hanuman\">Sita Rama Laxman Hanuman</a><br />\n",
            "\t\t\t&nbsp;</div>\n",
            "\t\t<div>\n",
            "\t\t\tISKCON Calcutta&nbsp;<a href=\"https://wallpapers.iskcondesiretree.com/category/categories/iskcon-deities/iskcon-calcutta/jagannath-baldeva-subhadra/\" title=\"View all posts filed under Jagannath Baldeva Subhadra\">Jagannath Baldeva Subhadra</a>&nbsp;<a href=\"https://wallpapers.iskcondesiretree.com/category/categories/iskcon-deities/iskcon-calcutta/sri-govinda-close-up-iskcon-calcutta/\" title=\"View all posts filed under Sri Govinda Close up\">Govinda Close up</a>&nbsp;<a href=\"https://wallpapers.iskcondesiretree.com/category/categories/iskcon-deities/iskcon-calcutta/sri-govinda-feet/\" title=\"View all posts filed under Sri Govinda Feet\">Govinda Feet</a>&nbsp;<a href=\"https://wallpapers.iskcondesiretree.com/category/categories/iskcon-deities/iskcon-calcutta/sri-radha-close-up-iskcon-calcutta/\" title=\"View all posts filed under Sri Radha Close up\">Radha Close up</a>&nbsp;<a href=\"https://wallpapers.iskcondesiretree.com/category/categories/iskcon-deities/iskcon-calcutta/sri-sri-radha-govinda-iskcon-calcutta/\" title=\"View all posts filed under Sri Sri Radha Govinda\">Radha Govinda</a>&nbsp;<a href=\"https://wallpapers.iskcondesiretree.com/category/categories/iskcon-deities/iskcon-calcutta/sri-sri-radha-govinda-close-up-iskcon-calcutta/\" title=\"View all posts filed under Sri Sri Radha Govinda Close up\">Radha Govinda Close up</a></div>\n",
            "\t\t<div>\n",
            "\t\t\t<br />\n",
            "\t\t\tISKCON Chennai&nbsp;&nbsp;<a href=\"https://wallpapers.iskcondesiretree.com/category/categories/iskcon-deities/iskcon-chennai/jagannath-baladeva-subhadra-iskcon-chennai/\" title=\"View all wallpapers of Jagannath Baladeva Subhadra\">Jagannath Baladeva Subhadra</a>&nbsp;<a href=\"https://wallpapers.iskcondesiretree.com/category/categories/iskcon-deities/iskcon-chennai/sri-gaura-close-up-iskcon-chennai/\" title=\"View all wallpapers of Sri Gaura Close up\">Gaura Close up</a>&nbsp;<a href=\"https://wallpapers.iskcondesiretree.com/category/categories/iskcon-deities/iskcon-chennai/sri-krishna-close-up/\" title=\"View all wallpapers of Sri Krishna Close up\">Krishna Close up</a>&nbsp;<a href=\"https://wallpapers.iskcondesiretree.com/category/categories/iskcon-deities/iskcon-chennai/sri-nitai-close-up-iskcon-chennai/\" title=\"View all wallpapers of Sri Nitai Close up\">Nitai Close up</a>&nbsp;<a href=\"https://wallpapers.iskcondesiretree.com/category/categories/iskcon-deities/iskcon-chennai/sri-radha-close-up-iskcon-chennai/\" title=\"View all wallpapers of Sri Radha Close up\">Radha Close up</a>&nbsp;<a href=\"https://wallpapers.iskcondesiretree.com/category/categories/iskcon-deities/iskcon-chennai/sri-sri-gaura-nitai-iskcon-chennai/\" title=\"View all wallpapers of Sri Sri Gaura Nitai\">Gaura Nitai</a>&nbsp;<a href=\"https://wallpapers.iskcondesiretree.com/category/categories/iskcon-deities/iskcon-chennai/sri-sri-radha-krishna-close-up/\" title=\"View all wallpapers of Sri Sri Radha Krishna Close up\">Radha Krishna Close up</a>&nbsp;<a href=\"https://wallpapers.iskcondesiretree.com/category/categories/iskcon-deities/iskcon-chennai/sri-sri-radha-krishna-lalita-vishakha/\" title=\"View all wallpapers of Sri Sri Radha Krishna Lalita Vishakha\">Radha Krishna Lalita Vishakha</a>&nbsp;<a href=\"https://wallpapers.iskcondesiretree.com/category/categories/iskcon-deities/iskcon-chennai/srimati-radharani-feet/\" title=\"View all posts filed under Srimati Radharani Feet\">Radharani Feet</a></div>\n",
            "\t\t<div>\n",
            "\t\t\t<br />\n",
            "\t\t\tISKCON Chicago&nbsp;<a href=\"https://wallpapers.iskcondesiretree.com/category/categories/iskcon-deities/iskcon-chicago/jagannath-baladeva-subhadra-wallpaper-001/\" title=\"View all wallpapers of Jagannath Baladeva Subhadra\">Jagannath Baladeva Subhadra</a>&nbsp;<a href=\"https://wallpapers.iskcondesiretree.com/category/categories/iskcon-deities/iskcon-chicago/sri-kishore-close-up/\" title=\"View all wallpapers of Sri Kishore Close up\">Kishore Close up</a>&nbsp;<a href=\"https://wallpapers.iskcondesiretree.com/category/categories/iskcon-deities/iskcon-chicago/sri-kishore-feet/\" title=\"View all wallpapers of Sri Kishore Feet\">Kishore Feet</a>&nbsp;<a href=\"https://wallpapers.iskcondesiretree.com/category/categories/iskcon-deities/iskcon-chicago/sri-kishori-close-up/\" title=\"View all wallpapers of Sri Kishori Close up\">Kishori Close up</a>&nbsp;<a href=\"https://wallpapers.iskcondesiretree.com/category/categories/iskcon-deities/iskcon-chicago/sri-sri-gaura-nitai-close-up/\" title=\"View all wallpapers of Sri Sri Gaura Nitai Close up\">Gaura Nitai Close up</a>&nbsp;<a href=\"https://wallpapers.iskcondesiretree.com/category/categories/iskcon-deities/iskcon-chicago/sri-sri-gaura-nitai-with-acharyas-iskcon-chicago/\" title=\"View all wallpapers of Sri Sri Gaura Nitai with Acharyas\">Gaura Nitai with Acharyas</a>&nbsp;<a href=\"https://wallpapers.iskcondesiretree.com/category/categories/iskcon-deities/iskcon-chicago/sri-sri-kishore-kishori/\" title=\"View all wallpapers of Sri Sri Kishore Kishori\">Kishore Kishori</a>&nbsp;<a href=\"https://wallpapers.iskcondesiretree.com/category/categories/iskcon-deities/iskcon-chicago/sri-sri-kishore-kishori-close-up/\" title=\"View all wallpapers of Sri Sri Kishore Kishori Close up\">Kishore Kishori Close up</a></div>\n",
            "\t\t<div>\n",
            "\t\t\t&nbsp;</div>\n",
            "\t\t<div>\n",
            "\t\t\tISKCON Chowpatty&nbsp;<a href=\"https://wallpapers.iskcondesiretree.com/category/categories/iskcon-deities/iskcon-chowpatty/sri-gaurachandra-close-up/\" title=\"View all wallpapers of Sri Gaurachandra Close up\">Gaurachandra Close up</a>&nbsp;<a href=\"https://wallpapers.iskcondesiretree.com/category/categories/iskcon-deities/iskcon-chowpatty/sri-gaurachandra-feet/\" title=\"View all wallpapers of Sri Gaurachandra Feet\">Gaurachandra Feet</a>&nbsp;<a href=\"https://wallpapers.iskcondesiretree.com/category/categories/iskcon-deities/iskcon-chowpatty/sri-gopal/\" title=\"View all wallpapers of Sri Gopal\">Gopal</a>&nbsp;<a href=\"https://wallpapers.iskcondesiretree.com/category/categories/iskcon-deities/iskcon-chowpatty/sri-gopal-close-up/\" title=\"View all wallpapers of Sri Gopal Close up\">Gopal Close up</a>&nbsp;<a href=\"https://wallpapers.iskcondesiretree.com/category/categories/iskcon-deities/iskcon-chowpatty/sri-gopinath-close-up/\" title=\"View all wallpapers of Sri Gopinath Close up\">Gopinath Close up</a>&nbsp;<a href=\"https://wallpapers.iskcondesiretree.com/category/categories/iskcon-deities/iskcon-chowpatty/sri-gopinath-feet/\" title=\"View all wallpapers of Sri Gopinath Feet\">Gopinath Feet</a>&nbsp;<a href=\"https://wallpapers.iskcondesiretree.com/category/categories/iskcon-deities/iskcon-chowpatty/sri-nitai-close-up/\" title=\"View all wallpapers of Sri Nitai Close up\">Nitai Close up</a>&nbsp;<a href=\"https://wallpapers.iskcondesiretree.com/category/categories/iskcon-deities/iskcon-chowpatty/sri-nitai-feet/\" title=\"View all wallpapers of Sri Nitai Feet\">Nitai Feet</a>&nbsp;<a href=\"https://wallpapers.iskcondesiretree.com/category/categories/iskcon-deities/iskcon-chowpatty/sri-sri-nitai-gaurachandra/\" title=\"View all wallpapers of Sri Sri Nitai Gaurachandra\">Nitai Gaurachandra</a>&nbsp;<a href=\"https://wallpapers.iskcondesiretree.com/category/categories/iskcon-deities/iskcon-chowpatty/sri-sri-nitai-gaurachandra-close-up/\" title=\"View all wallpapers of Sri Sri Nitai Gaurachandra Close up\">Nitai Gaurachandra Close up</a>&nbsp;<a href=\"https://wallpapers.iskcondesiretree.com/category/categories/iskcon-deities/iskcon-chowpatty/sri-sri-radha-gopinath-close-up/\">Radha Gopinath Close up</a>&nbsp;<a href=\"https://wallpapers.iskcondesiretree.com/category/categories/iskcon-deities/iskcon-chowpatty/sri-sri-radha-gopinath-lalita-vishakha-iskcon-chowpatty/\" title=\"View all wallpapers of Sri Sri Radha Gopinath Lalita Vishakha\">Radha Gopinath Lalita Vishakha</a>&nbsp;<a href=\"https://wallpapers.iskcondesiretree.com/category/categories/iskcon-deities/iskcon-chowpatty/srimati-radharani-close-up/\" title=\"View all wallpapers of Srimati Radharani Close up\">Radharani Close up</a></div>\n",
            "\t\t<div>\n",
            "\t\t\t&nbsp;</div>\n",
            "\t\t<div>\n",
            "\t\t\tISKCON Copenhagen&nbsp;<a href=\"https://wallpapers.iskcondesiretree.com/category/categories/iskcon-deities/iskcon-copenhagen/sri-sri-gaura-nitai-iskcon-copenhagen/\" title=\"View all wallpapers of Sri Sri Gaura Nitai\">Gaura Nitai</a></div>\n",
            "\t\t<div>\n",
            "\t\t\t<br />\n",
            "\t\t\tISKCON Dallas&nbsp;<a href=\"https://wallpapers.iskcondesiretree.com/category/categories/iskcon-deities/iskcon-dallas/sri-kalachanda-close-up/\" title=\"View all wallpapers of Sri Kalachanda Close up\">Kalachanda Close up</a>&nbsp;<a href=\"https://wallpapers.iskcondesiretree.com/category/categories/iskcon-deities/iskcon-dallas/sri-radha-close-up-iskcon-dallas/\" title=\"View all wallpapers of Sri Radha Close up\">Radha Close up</a>&nbsp;<a href=\"https://wallpapers.iskcondesiretree.com/category/categories/iskcon-deities/iskcon-dallas/sri-sri-radha-kalachanda/\" title=\"View all wallpapers of Sri Sri Radha Kalachanda\">Radha Kalachanda</a>&nbsp;<a href=\"https://wallpapers.iskcondesiretree.com/category/categories/iskcon-deities/iskcon-dallas/sri-sri-radha-kalachanda-close-up/\" title=\"View all wallpapers of Sri Sri Radha Kalachanda Close up\">Radha Kalachanda Close up</a></div>\n",
            "\t\t<div>\n",
            "\t\t\t<br />\n",
            "\t\t\tISKCON Delhi&nbsp;<a href=\"https://wallpapers.iskcondesiretree.com/category/categories/iskcon-deities/iskcon-delhi/sri-gaura-close-up-iskcon-delhi/\" title=\"View all wallpapers of Sri Gaura Close up\">Gaura Close up</a>&nbsp;<a href=\"https://wallpapers.iskcondesiretree.com/category/categories/iskcon-deities/iskcon-delhi/sri-nitai-close-up-iskcon-delhi/\" title=\"View all wallpapers of Sri Nitai Close up\">Nitai Close up</a>&nbsp;<a href=\"https://wallpapers.iskcondesiretree.com/category/categories/iskcon-deities/iskcon-delhi/sri-parthasarathi-close-up/\" title=\"View all wallpapers of Sri Parthasarathi Close Up\">Parthasarathi Close Up</a>&nbsp;<a href=\"https://wallpapers.iskcondesiretree.com/category/categories/iskcon-deities/iskcon-delhi/sri-parthasarathi-feet/\" title=\"View all wallpapers of Sri Parthasarathi Feet\">Parthasarathi Feet</a>&nbsp;<a href=\"https://wallpapers.iskcondesiretree.com/category/categories/iskcon-deities/iskcon-delhi/sri-radha-close-up-iskcon-delhi/\" title=\"View all wallpapers of Sri Radha Close up\">Radha Close up</a>&nbsp;<a href=\"https://wallpapers.iskcondesiretree.com/category/categories/iskcon-deities/iskcon-delhi/sri-rama-close-up-iskcon-delhi/\" title=\"View all wallpapers of Sri Rama Close up\">Rama Close up</a>&nbsp;<a href=\"https://wallpapers.iskcondesiretree.com/category/categories/iskcon-deities/iskcon-delhi/sri-sita-close-up-iskcon-delhi/\" title=\"View all wallpapers of Sri Sita Close up\">Sita Close up</a>&nbsp;<a href=\"https://wallpapers.iskcondesiretree.com/category/categories/iskcon-deities/iskcon-delhi/sri-sri-gaura-nitai-iskcon-delhi/\" title=\"View all wallpapers of Sri Sri Gaura Nitai\">Gaura Nitai</a>&nbsp;<a href=\"https://wallpapers.iskcondesiretree.com/category/categories/iskcon-deities/iskcon-delhi/sri-sri-gaura-nitai-close-up-iskcon-delhi/\" title=\"View all wallpapers of Sri Sri Gaura Nitai Close up\">Gaura Nitai Close up</a>&nbsp;<a href=\"https://wallpapers.iskcondesiretree.com/category/categories/iskcon-deities/iskcon-delhi/sri-sri-radha-parthasarathi/\" title=\"View all wallpapers of Sri Sri Radha Parthasarathi\">Radha Parthasarathi</a>&nbsp;<a href=\"https://wallpapers.iskcondesiretree.com/category/categories/iskcon-deities/iskcon-delhi/sri-sri-radha-parthasarathi-close-up/\">Radha Parthasarathi Close up</a>&nbsp;&nbsp;<a href=\"https://wallpapers.iskcondesiretree.com/category/categories/iskcon-deities/iskcon-delhi/sri-sri-sita-rama-laxman/\" title=\"View all wallpapers of Sri Sri Sita Rama Laxman\">Sita Rama Laxman</a>&nbsp;<a href=\"https://wallpapers.iskcondesiretree.com/category/categories/iskcon-deities/iskcon-delhi/sri-sri-sita-rama-laxman-hanuman-iskcon-delhi/\" title=\"View all wallpapers of Sri Sri Sita Rama Laxman Hanuman\">Sita Rama Laxman Hanuman</a></div>\n",
            "\t\t<div>\n",
            "\t\t\t&nbsp;</div>\n",
            "\t\t<div>\n",
            "\t\t\tISKCON Ghaziabad&nbsp;<a href=\"https://wallpapers.iskcondesiretree.com/category/categories/iskcon-deities/iskcon-ghaziabad/jagannath-baladeva-subhadra-iskcon-ghaziabad/\" title=\"View all posts filed under Jagannath Baladeva Subhadra\">Jagannath Baladeva Subhadra</a></div>\n",
            "\t\t<div>\n",
            "\t\t\t<br />\n",
            "\t\t\tISKCON Habibpur&nbsp;<a href=\"https://wallpapers.iskcondesiretree.com/category/categories/iskcon-deities/iskcon-habibpur/jagannath-baldeva-subhadra-iskcon-habibpur/\" title=\"View all posts filed under Jagannath Baldeva Subhadra\">Jagannath Baldeva Subhadra</a>&nbsp;<a href=\"https://wallpapers.iskcondesiretree.com/category/categories/iskcon-deities/iskcon-habibpur/sri-sri-radha-madhava-close-up-iskcon-habibpur/\" title=\"View all posts filed under Sri Sri Radha Madhava Close up\">Radha Madhava Close up</a></div>\n",
            "\t\t<div>\n",
            "\t\t\t&nbsp;</div>\n",
            "\t\t<div>\n",
            "\t\t\tISKCON Houston&nbsp;<a href=\"https://wallpapers.iskcondesiretree.com/category/categories/iskcon-deities/iskcon-houston/sri-nilamadhava-close-up/\" title=\"View all wallpapers of Sri Nilamadhava Close up\">Nilamadhava Close up</a>&nbsp;<a href=\"https://wallpapers.iskcondesiretree.com/category/categories/iskcon-deities/iskcon-houston/sri-radha-close-up-iskcon-houston/\" title=\"View all wallpapers of Sri Radha Close up\">Radha Close up</a>&nbsp;<a href=\"https://wallpapers.iskcondesiretree.com/category/categories/iskcon-deities/iskcon-houston/sri-sri-radha-nilamadhava/\" title=\"View all wallpapers of Sri Sri Radha Nilamadhava\">Radha Nilamadhava</a>&nbsp;<a href=\"https://wallpapers.iskcondesiretree.com/category/categories/iskcon-deities/iskcon-houston/sri-sri-radha-nilamadhava-close-up/\" title=\"View all wallpapers of Sri Sri Radha Nilamadhava Close up\">Radha Nilamadhava Close up</a></div>\n",
            "\t\t<div>\n",
            "\t\t\t<br />\n",
            "\t\t\tISKCON Hungary&nbsp;<a href=\"https://wallpapers.iskcondesiretree.com/category/categories/iskcon-deities/iskcon-hungary/sri-radha-close-up-iskcon-hungary/\" title=\"View all wallpapers of Sri Radha Close up\">Radha Close up</a>&nbsp;<a href=\"https://wallpapers.iskcondesiretree.com/category/categories/iskcon-deities/iskcon-hungary/sri-shyamsundar-close-up-iskcon-hungary/\" title=\"View all wallpapers of Sri Shyamsundar Close up\">Shyamsundar Close up</a>&nbsp;<a href=\"https://wallpapers.iskcondesiretree.com/category/categories/iskcon-deities/iskcon-hungary/sri-sri-radha-shyamsundar-iskcon-hungary/\" title=\"View all wallpapers of Sri Sri Radha Shyamsundar\">Radha Shyamsundar</a>&nbsp;<a href=\"https://wallpapers.iskcondesiretree.com/category/categories/iskcon-deities/iskcon-hungary/sri-sri-radha-shyamsundar-close-up/\" title=\"View all wallpapers of Sri Sri Radha Shyamsundar Close up\">Radha Shyamsundar Close up</a></div>\n",
            "\t\t<div>\n",
            "\t\t\t<br />\n",
            "\t\t\tISKCON Juhu&nbsp;<a href=\"https://wallpapers.iskcondesiretree.com/category/categories/iskcon-deities/iskcon-juhu/sri-gauranga-face/\" title=\"View all wallpapers of Sri Gauranga Face\">Gauranga Face</a>&nbsp;<a href=\"https://wallpapers.iskcondesiretree.com/category/categories/iskcon-deities/iskcon-juhu/sri-hanuman-iskcon-juhu/\" title=\"View all wallpapers of Sri Hanuman\">Hanuman</a>&nbsp;<a href=\"https://wallpapers.iskcondesiretree.com/category/categories/iskcon-deities/iskcon-juhu/sri-hanuman-face/\" title=\"View all wallpapers of Sri Hanuman Face\">Hanuman Face</a>&nbsp;<a href=\"https://wallpapers.iskcondesiretree.com/category/categories/iskcon-deities/iskcon-juhu/sri-laxman-close-up/\" title=\"View all wallpapers of Sri Laxman Close up\">Laxman Close up</a>&nbsp;<a href=\"https://wallpapers.iskcondesiretree.com/category/categories/iskcon-deities/iskcon-juhu/sri-nitai-face/\" title=\"View all wallpapers of Sri Nitai Face\">Nitai Face</a>&nbsp;<a href=\"https://wallpapers.iskcondesiretree.com/category/categories/iskcon-deities/iskcon-juhu/sri-radha-face/\" title=\"View all wallpapers of Sri Radha Face\">Radha Face</a>&nbsp;<a href=\"https://wallpapers.iskcondesiretree.com/category/categories/iskcon-deities/iskcon-juhu/sri-radha-full/\" title=\"View all posts filed under Sri Radha Full\">Radha Full</a>&nbsp;<a href=\"https://wallpapers.iskcondesiretree.com/category/categories/iskcon-deities/iskcon-juhu/sri-rama-close-up-iskcon-juhu/\" title=\"View all wallpapers of Sri Rama Close up\">Rama Close up</a>&nbsp;<a href=\"https://wallpapers.iskcondesiretree.com/category/categories/iskcon-deities/iskcon-juhu/sri-rasabihari-face/\" title=\"View all wallpapers of Sri Rasabihari Face\">Rasabihari Face</a>&nbsp;<a href=\"https://wallpapers.iskcondesiretree.com/category/categories/iskcon-deities/iskcon-juhu/sri-sita-close-up-iskcon-juhu/\" title=\"View all wallpapers of Sri Sita Close up\">Sita Close up</a>&nbsp;<a href=\"https://wallpapers.iskcondesiretree.com/category/categories/iskcon-deities/iskcon-juhu/sri-sri-gaura-nitai-iskcon-juhu/\" title=\"View all wallpapers of Sri Sri Gaura Nitai\">Gaura Nitai</a>&nbsp;<a href=\"https://wallpapers.iskcondesiretree.com/category/categories/iskcon-deities/iskcon-juhu/sri-sri-gaura-nitai-close-up-iskcon-juhu/\" title=\"View all posts filed under Sri Sri Gaura Nitai Close up\">Gaura Nitai Close up</a>&nbsp;<a href=\"https://wallpapers.iskcondesiretree.com/category/categories/iskcon-deities/iskcon-juhu/sri-sri-gaura-nitai-with-acharyas/\" title=\"View all wallpapers of Sri Sri Gaura Nitai with Acharyas\">Gaura Nitai with Acharyas</a>&nbsp;<a href=\"https://wallpapers.iskcondesiretree.com/category/categories/iskcon-deities/iskcon-juhu/sri-sri-radha-rasabihari/\" title=\"View all wallpapers of Sri Sri Radha Rasabihari\">Radha Rasabihari</a>&nbsp;<a href=\"https://wallpapers.iskcondesiretree.com/category/categories/iskcon-deities/iskcon-juhu/sri-sri-radha-rasabihari-close-up/\" title=\"View all wallpapers of Sri Sri Radha Rasabihari Close up\">Radha Rasabihari Close up</a>&nbsp;<a href=\"https://wallpapers.iskcondesiretree.com/category/categories/iskcon-deities/iskcon-juhu/sri-sri-radha-rasabihari-lalita-vishakha/\" title=\"View all wallpapers of Sri Sri Radha Rasabihari Lalita Vishakha\">Radha Rasabihari Lalita Vishakha</a>&nbsp;<a href=\"https://wallpapers.iskcondesiretree.com/category/categories/iskcon-deities/iskcon-juhu/sri-sri-rama-laxman/\" title=\"View all wallpapers of Sri Sri Rama Laxman\">Rama Laxman</a>&nbsp;<a href=\"https://wallpapers.iskcondesiretree.com/category/categories/iskcon-deities/iskcon-juhu/sri-sri-sita-rama-iskcon-juhu/\" title=\"View all wallpapers of Sri Sri Sita Rama\">Sita Rama</a>&nbsp;<a href=\"https://wallpapers.iskcondesiretree.com/category/categories/iskcon-deities/iskcon-juhu/sri-sri-sita-rama-laxman-hanuman/\" title=\"View all wallpapers of Sri Sri Sita Rama Laxman Hanuman\">Sita Rama Laxman Hanuman</a></div>\n",
            "\t\t<div>\n",
            "\t\t\t&nbsp;</div>\n",
            "\t\t<div>\n",
            "\t\t\tISKCON Kansas City&nbsp;<a href=\"https://wallpapers.iskcondesiretree.com/category/categories/iskcon-deities/iskcon-kansas-city/sri-gaura-close-up/\" title=\"View all wallpapers of Sri Gaura Close up\">Gaura Close up</a>&nbsp;<a href=\"https://wallpapers.iskcondesiretree.com/category/categories/iskcon-deities/iskcon-kansas-city/sri-nitai-close-up-iskcon-kansas/\" title=\"View all wallpapers of Sri Nitai Close up\">Nitai Close up</a>&nbsp;<a href=\"https://wallpapers.iskcondesiretree.com/category/categories/iskcon-deities/iskcon-kansas-city/sri-sri-gaura-nitai-iskcon-kansas/\" title=\"View all wallpapers of Sri Sri Gaura Nitai\">Gaura Nitai</a></div>\n",
            "\t\t<div>\n",
            "\t\t\t<br />\n",
            "\t\t\tISKCON Laguna Beach&nbsp;<a href=\"https://wallpapers.iskcondesiretree.com/category/categories/iskcon-deities/iskcon-laguna-beach/jagannath-baladeva-subhadra/\" title=\"View all wallpapers of Jagannath Baladeva Subhadra\">Jagannath Baladeva Subhadra</a>&nbsp;<a href=\"https://wallpapers.iskcondesiretree.com/category/categories/iskcon-deities/iskcon-laguna-beach/sri-panchatatva-iskcon-laguna-beach/\" title=\"View all wallpapers of Sri Panchatatva\">Panchatatva</a></div>\n",
            "\t\t<div>\n",
            "\t\t\t<br />\n",
            "\t\t\tISKCON Los Angeles&nbsp;<a href=\"https://wallpapers.iskcondesiretree.com/category/categories/iskcon-deities/iskcon-los-angeles/sri-dwarkadhish-close-up/\" title=\"View all wallpapers of Sri Dwarkadhish Close up\">Dwarkadhish Close up</a>&nbsp;<a href=\"https://wallpapers.iskcondesiretree.com/category/categories/iskcon-deities/iskcon-los-angeles/sri-dwarkadhish-feet/\" title=\"View all wallpapers of Sri Dwarkadhish Feet\">Dwarkadhish Feet</a>&nbsp;<a href=\"https://wallpapers.iskcondesiretree.com/category/categories/iskcon-deities/iskcon-los-angeles/sri-rukmini-close-up/\" title=\"View all wallpapers of Sri Rukmini Close up\">Rukmini Close up</a>&nbsp;<a href=\"https://wallpapers.iskcondesiretree.com/category/categories/iskcon-deities/iskcon-los-angeles/sri-sri-rukmini-dwarkadhish/\" title=\"View all wallpapers of Sri Sri Rukmini Dwarkadhish\">Rukmini Dwarkadhish</a>&nbsp;<a href=\"https://wallpapers.iskcondesiretree.com/category/categories/iskcon-deities/iskcon-los-angeles/sri-sri-rukmini-dwarakadhish-close-up/\" title=\"View all wallpapers of Sri Sri Rukmini Dwarkadhish Close up\">Rukmini Dwarkadhish Close up</a></div>\n",
            "\t\t<div>\n",
            "\t\t\t&nbsp;</div>\n",
            "\t\t<div>\n",
            "\t\t\tISKCON Ludhiana&nbsp;<a href=\"https://wallpapers.iskcondesiretree.com/category/categories/iskcon-deities/iskcon-ludhiana/jagannath-baladeva-subhadra-iskcon-ludhiana/\" title=\"View all wallpapers of Jagannath Baladeva Subhadra\">Jagannath Baladeva Subhadra</a></div>\n",
            "\t\t<div>\n",
            "\t\t\t&nbsp;</div>\n",
            "\t\t<div>\n",
            "\t\t\tISKCON Mayapur&nbsp;<a href=\"https://wallpapers.iskcondesiretree.com/category/categories/iskcon-deities/iskcon-mayapur/sri-madhava-close-up/\" title=\"View all wallpapers of Sri Madhava Close up\">Madhava Close up</a>&nbsp;<a href=\"https://wallpapers.iskcondesiretree.com/category/categories/iskcon-deities/iskcon-mayapur/sri-madhava-feet/\" title=\"View all wallpapers of Sri Madhava Feet\">Madhava Feet</a>&nbsp;<a href=\"https://wallpapers.iskcondesiretree.com/category/categories/iskcon-deities/iskcon-mayapur/sri-narasimha-deva/\" title=\"View all wallpapers of Sri Narasimha Deva\">Narasimha Deva</a>&nbsp;<a href=\"https://wallpapers.iskcondesiretree.com/category/categories/iskcon-deities/iskcon-mayapur/sri-narasimha-deva-close-up/\" title=\"View all wallpapers of Sri Narasimha Deva Close up\">Narasimha Deva Close up</a>&nbsp;<a href=\"https://wallpapers.iskcondesiretree.com/category/categories/iskcon-deities/iskcon-mayapur/sri-panchatatva/\" title=\"View all wallpapers of Sri Panchatatva\">Panchatatva</a>&nbsp;<a href=\"https://wallpapers.iskcondesiretree.com/category/categories/iskcon-deities/iskcon-mayapur/sri-radha-madhava/\" title=\"View all wallpapers of Sri Sri Radha Madhava\">Radha Madhava</a>&nbsp;<a href=\"https://wallpapers.iskcondesiretree.com/category/categories/iskcon-deities/iskcon-mayapur/sri-radha-madhava-close-up/\" title=\"View all wallpapers of Sri Sri Radha Madhava Close up\">Radha Madhava Close up</a>&nbsp;<a href=\"https://wallpapers.iskcondesiretree.com/category/categories/iskcon-deities/iskcon-mayapur/sri-radha-madhava-with-asta-sakhi/\" title=\"View all wallpapers of Sri Sri Radha Madhava with Asta Sakhi\">Radha Madhava with Asta Sakhi</a>&nbsp;<a href=\"https://wallpapers.iskcondesiretree.com/category/categories/iskcon-deities/iskcon-mayapur/srimati-radharani/\" title=\"View all wallpapers of Srimati Radharani\">Radharani</a></div>\n",
            "\t\t<div>\n",
            "\t\t\t<br />\n",
            "\t\t\tISKCON Melbourne&nbsp;<a href=\"https://wallpapers.iskcondesiretree.com/category/categories/iskcon-deities/iskcon-melbourne/jagannath-baladeva-subhadra-iskcon-melbourne/\" title=\"View all posts filed under Jagannath Baladeva Subhadra\">Jagannath Baladeva Subhadra</a>&nbsp;<a href=\"https://wallpapers.iskcondesiretree.com/category/categories/iskcon-deities/iskcon-melbourne/sri-radha-close-up-iskcon-melbourne/\" title=\"View all wallpapers of Sri Radha Close up\">Radha Close up</a>&nbsp;<a href=\"https://wallpapers.iskcondesiretree.com/category/categories/iskcon-deities/iskcon-melbourne/sri-sri-radha-vallabh/\" title=\"View all wallpapers of Sri Sri Radha Vallabh\">Radha Vallabh</a>&nbsp;<a href=\"https://wallpapers.iskcondesiretree.com/category/categories/iskcon-deities/iskcon-melbourne/sri-sri-radha-vallabh-close-up/\" title=\"View all wallpapers of Sri Sri Radha Vallabh Close up\">Radha Vallabh Close up</a>&nbsp;<a href=\"https://wallpapers.iskcondesiretree.com/category/categories/iskcon-deities/iskcon-melbourne/sri-vallabh-close-up/\" title=\"View all wallpapers of Sri Vallabh Close up\">Vallabh Close up</a>&nbsp;<a href=\"https://wallpapers.iskcondesiretree.com/category/categories/iskcon-deities/iskcon-melbourne/sri-vallabh-feet/\" title=\"View all wallpapers of Sri Vallabh Feet\">Vallabh Feet</a></div>\n",
            "\t\t<div>\n",
            "\t\t\t&nbsp;</div>\n",
            "\t\t<div>\n",
            "\t\t\tISKCON Mira Road&nbsp;<a href=\"https://wallpapers.iskcondesiretree.com/category/categories/iskcon-deities/iskcon-mira-road/jagannath-baldeva-subhadra-iskcon-mira-road/\" title=\"View all posts filed under Jagannath Baldeva Subhadra\">Jagannath Baldeva Subhadra</a>&nbsp;<a href=\"https://wallpapers.iskcondesiretree.com/category/categories/iskcon-deities/iskcon-mira-road/sri-gaura-close-up-iskcon-mira-road/\" title=\"View all posts filed under Sri Gaura Close up\">Gaura Close up</a>&nbsp;<a href=\"https://wallpapers.iskcondesiretree.com/category/categories/iskcon-deities/iskcon-mira-road/sri-giridhari-close-up/\" title=\"View all posts filed under Sri Giridhari Close up\">Giridhari Close up</a>&nbsp;<a href=\"https://wallpapers.iskcondesiretree.com/category/categories/iskcon-deities/iskcon-mira-road/sri-nitai-close-up-iskcon-mira-road/\" title=\"View all posts filed under Sri Nitai Close up\">Nitai Close up</a>&nbsp;<a href=\"https://wallpapers.iskcondesiretree.com/category/categories/iskcon-deities/iskcon-mira-road/sri-radha-close-up-iskcon-mira-road/\" title=\"View all posts filed under Sri Radha Close up\">Radha Close up</a>&nbsp;<a href=\"https://wallpapers.iskcondesiretree.com/category/categories/iskcon-deities/iskcon-mira-road/sri-sri-gaura-nitai-iskcon-mira-road/\" title=\"View all posts filed under Sri Sri Gaura Nitai\">Gaura Nitai</a>&nbsp;<a href=\"https://wallpapers.iskcondesiretree.com/category/categories/iskcon-deities/iskcon-mira-road/sri-sri-gaura-nitai-close-up-iskcon-mira-road/\" title=\"View all posts filed under Sri Sri Gaura Nitai Close up\">Gaura Nitai Close up</a>&nbsp;<a href=\"https://wallpapers.iskcondesiretree.com/category/categories/iskcon-deities/iskcon-mira-road/sri-sri-radha-giridhari-iskcon-mira-road/\" title=\"View all posts filed under Sri Sri Radha Giridhari\">Radha Giridhari</a>&nbsp;<a href=\"https://wallpapers.iskcondesiretree.com/category/categories/iskcon-deities/iskcon-mira-road/sri-sri-radha-giridhari-close-up/\" title=\"View all posts filed under Sri Sri Radha Giridhari Close up\">Radha Giridhari Close up</a></div>\n",
            "\t\t<div>\n",
            "\t\t\t&nbsp;</div>\n",
            "\t\t<div>\n",
            "\t\t\tISKCON Nashik&nbsp;<a href=\"https://wallpapers.iskcondesiretree.com/category/categories/iskcon-deities/iskcon-nashik/sri-madan-gopal-close-up/\" title=\"View all wallpapers of Sri Madan Gopal Close up\">Madan Gopal Close up</a>&nbsp;<a href=\"https://wallpapers.iskcondesiretree.com/category/categories/iskcon-deities/iskcon-nashik/sri-madan-gopal-feet/\" title=\"View all wallpapers of Sri Madan Gopal Feet\">Madan Gopal Feet</a>&nbsp;<a href=\"https://wallpapers.iskcondesiretree.com/category/categories/iskcon-deities/iskcon-nashik/sri-radha-close-up-iskcon-nashik/\" title=\"View all wallpapers of Sri Radha Close up\">Radha Close up</a>&nbsp;<a href=\"https://wallpapers.iskcondesiretree.com/category/categories/iskcon-deities/iskcon-nashik/sri-sri-radha-madan-gopal/\" title=\"View all wallpapers of Sri Sri Radha Madan Gopal\">Radha Madan Gopal</a>&nbsp;<a href=\"https://wallpapers.iskcondesiretree.com/category/categories/iskcon-deities/iskcon-nashik/sri-sri-radha-madan-gopal-close-up/\" title=\"View all wallpapers of Sri Sri Radha Madan Gopal Close up\">Radha Madan Gopal Close up</a>&nbsp;<a href=\"https://wallpapers.iskcondesiretree.com/category/categories/iskcon-deities/iskcon-nashik/sri-sri-radha-madan-gopal-lalita-vishakha/\" title=\"View all wallpapers of Sri Sri Radha Madan Gopal Close up\">Radha Madan Gopal Lalita Vishakha</a></div>\n",
            "\t\t<div>\n",
            "\t\t\t&nbsp;</div>\n",
            "\t\t<div>\n",
            "\t\t\tISKCON New Jersey - Laurence Harbor&nbsp;<a href=\"https://wallpapers.iskcondesiretree.com/category/categories/iskcon-deities/iskcon-new-jersey-laurence-harbor/jagannath-baladeva-subhadra-iskcon-new-jersey-laurence-harbor/\" title=\"View all wallpapers of Jagannath Baladeva Subhadra\">Jagannath Baladeva Subhadra</a></div>\n",
            "\t\t<div>\n",
            "\t\t\t<br />\n",
            "\t\t\tISKCON New Vrindavan&nbsp;<a href=\"https://wallpapers.iskcondesiretree.com/category/categories/iskcon-deities/iskcon-new-vrindavan/sri-radha-feet/\" title=\"View all wallpapers of Sri Radha Feet\">Radha Feet</a>&nbsp;<a href=\"https://wallpapers.iskcondesiretree.com/category/categories/iskcon-deities/iskcon-new-vrindavan/sri-sri-gaura-nitai-close-up-iskcon-new-vrindavan/\" title=\"View all wallpapers of Sri Sri Gaura Nitai Close up\">Gaura Nitai Close up</a>&nbsp;<a href=\"https://wallpapers.iskcondesiretree.com/category/categories/iskcon-deities/iskcon-new-vrindavan/sri-sri-radha-vrindavana-chandra/\" title=\"View all wallpapers of Sri Sri Radha Vrindavana Chandra\">Radha Vrindavana Chandra</a>&nbsp;<a href=\"https://wallpapers.iskcondesiretree.com/category/categories/iskcon-deities/iskcon-new-vrindavan/sri-sri-radha-vrindavana-chandra-close-up/\" title=\"View all wallpapers of Sri Sri Radha Vrindavana Chandra Close up\">Radha Vrindavana Chandra Close up</a>&nbsp;<a href=\"https://wallpapers.iskcondesiretree.com/category/categories/iskcon-deities/iskcon-new-vrindavan/sri-sri-radha-vrindavana-nath-close-up/\" title=\"View all wallpapers of Sri Sri Radha Vrindavana Nath Close up\">Radha Vrindavana Nath Close up</a>&nbsp;<a href=\"https://wallpapers.iskcondesiretree.com/category/categories/iskcon-deities/iskcon-new-vrindavan/sri-vrindavana-chandra-close-up/\" title=\"View all wallpapers of Sri Vrindavana Chandra Close up\">Vrindavana Chandra Close up</a>&nbsp;<a href=\"https://wallpapers.iskcondesiretree.com/category/categories/iskcon-deities/iskcon-new-vrindavan/sri-vrindavana-chandra-feet/\" title=\"View all wallpapers of Sri Vrindavana Chandra Feet\">Vrindavana Chandra Feet</a></div>\n",
            "\t\t<div>\n",
            "\t\t\t&nbsp;</div>\n",
            "\t\t<div>\n",
            "\t\t\tISKCON Nigdi&nbsp;<a href=\"https://wallpapers.iskcondesiretree.com/category/categories/iskcon-deities/iskcon-nigdi/sri-govind-close-up/\" title=\"View all wallpapers of Sri Govind Close up\">Govind Close up</a>&nbsp;<a href=\"https://wallpapers.iskcondesiretree.com/category/categories/iskcon-deities/iskcon-nigdi/sri-radha-close-up-iskcon-nigdi/\" title=\"View all wallpapers of Sri Radha Close up\">Radha Close up</a>&nbsp;<a href=\"https://wallpapers.iskcondesiretree.com/category/categories/iskcon-deities/iskcon-nigdi/sri-sri-radha-govind/\" title=\"View all wallpapers of Sri Sri Radha Govind\">Radha Govind</a>&nbsp;<a href=\"https://wallpapers.iskcondesiretree.com/category/categories/iskcon-deities/iskcon-nigdi/sri-sri-radha-govind-close-up/\" title=\"View all wallpapers of Sri Sri Radha Govind Close up\">Radha Govind Close up</a></div>\n",
            "\t\t<div>\n",
            "\t\t\t<br />\n",
            "\t\t\tISKCON Pandharpur&nbsp;<a href=\"https://wallpapers.iskcondesiretree.com/category/categories/iskcon-deities/iskcon-pandharpur/sri-sri-radha-pandharinath/\" title=\"View all wallpapers of Sri Sri Radha Pandharinath\">Radha Pandharinath</a></div>\n",
            "\t\t<div>\n",
            "\t\t\t<br />\n",
            "\t\t\tISKCON Philadelphia&nbsp;<a href=\"https://wallpapers.iskcondesiretree.com/category/categories/iskcon-deities/iskcon-philadelphia/jagannath-baladeva-subhadra-iskcon-philadelphia/\" title=\"View all wallpapers of Jagannath Baladeva Subhadra\">Jagannath Baladeva Subhadra</a>&nbsp;<a href=\"https://wallpapers.iskcondesiretree.com/category/categories/iskcon-deities/iskcon-philadelphia/sri-krishna-close-up-iskcon-philadelphia/\" title=\"View all wallpapers of Sri Krishna Close up\">Krishna Close up</a>&nbsp;<a href=\"https://wallpapers.iskcondesiretree.com/category/categories/iskcon-deities/iskcon-philadelphia/sri-krishna-feet/\" title=\"View all wallpapers of Sri Krishna Feet\">Krishna Feet</a>&nbsp;<a href=\"https://wallpapers.iskcondesiretree.com/category/categories/iskcon-deities/iskcon-philadelphia/sri-radha-close-up-iskcon-philadelphia/\" title=\"View all wallpapers of Sri Radha Close up\">Radha Close up</a>&nbsp;<a href=\"https://wallpapers.iskcondesiretree.com/category/categories/iskcon-deities/iskcon-philadelphia/sri-sri-radha-krishna/\" title=\"View all wallpapers of Sri Sri Radha Krishna\">Radha Krishna</a>&nbsp;<a href=\"https://wallpapers.iskcondesiretree.com/category/categories/iskcon-deities/iskcon-philadelphia/sri-sri-radha-krishna-close-up-iskcon-philadelphia/\" title=\"View all wallpapers of Sri Sri Radha Krishna Close up\">Radha Krishna Close up</a></div>\n",
            "\t\t<div>\n",
            "\t\t\t&nbsp;</div>\n",
            "\t\t<div>\n",
            "\t\t\tISKCON Philippines&nbsp;<a href=\"https://wallpapers.iskcondesiretree.com/category/categories/iskcon-deities/iskcon-philippines/sri-madhava-close-up-iskcon-philippines/\" title=\"View all wallpapers of Sri Madhava Close up\">Madhava Close up</a>&nbsp;<a href=\"https://wallpapers.iskcondesiretree.com/category/categories/iskcon-deities/iskcon-philippines/sri-radha-close-up-iskcon-philippines/\" title=\"View all wallpapers of Sri Radha Close up\">Radha Close up</a>&nbsp;<a href=\"https://wallpapers.iskcondesiretree.com/category/categories/iskcon-deities/iskcon-philippines/sri-sri-radha-madhava/\" title=\"View all wallpapers of Sri Sri Radha Madhava\">Radha Madhava</a>&nbsp;<a href=\"https://wallpapers.iskcondesiretree.com/category/categories/iskcon-deities/iskcon-philippines/sri-sri-radha-madhava-close-up/\" title=\"View all wallpapers of Sri Sri Radha Madhava Close up\">Radha Madhava Close up</a></div>\n",
            "\t\t<div>\n",
            "\t\t\t&nbsp;</div>\n",
            "\t\t<div>\n",
            "\t\t\tISKCON Pune&nbsp;<a href=\"https://wallpapers.iskcondesiretree.com/category/categories/iskcon-deities/iskcon-pune/sri-balaji/\" title=\"View all wallpapers of Sri Balaji\">Balaji</a>&nbsp;<a href=\"https://wallpapers.iskcondesiretree.com/category/categories/iskcon-deities/iskcon-pune/sri-balaji-close-up/\" title=\"View all wallpapers of Sri Balaji Close up\">Balaji Close up</a>&nbsp;<a href=\"https://wallpapers.iskcondesiretree.com/category/categories/iskcon-deities/iskcon-pune/sri-balaji-feet/\" title=\"View all wallpapers of Sri Balaji Feet\">Balaji Feet</a>&nbsp;<a href=\"https://wallpapers.iskcondesiretree.com/category/categories/iskcon-deities/iskcon-pune/sri-gaura-close-up-iskcon-pune/\" title=\"View all wallpapers of Sri Gaura Close up\">Gaura Close up</a>&nbsp;<a href=\"https://wallpapers.iskcondesiretree.com/category/categories/iskcon-deities/iskcon-pune/sri-kunjabihari-close-up/\" title=\"View all wallpapers of Sri Kunjabihari Close up\">Kunjabihari Close up</a>&nbsp;<a href=\"https://wallpapers.iskcondesiretree.com/category/categories/iskcon-deities/iskcon-pune/sri-kunjabihari-feet/\" title=\"View all wallpapers of Sri Kunjabihari Feet\">Kunjabihari Feet</a>&nbsp;<a href=\"https://wallpapers.iskcondesiretree.com/category/categories/iskcon-deities/iskcon-pune/sri-radha-close-up-iskcon-pune/\" title=\"View all wallpapers of Sri Radha Close up\">Radha Close up</a>&nbsp;<a href=\"https://wallpapers.iskcondesiretree.com/category/categories/iskcon-deities/iskcon-pune/sri-sri-gaura-nitai-iskcon-pune/\" title=\"View all wallpapers of Sri Sri Gaura Nitai\">Gaura Nitai</a>&nbsp;<a href=\"https://wallpapers.iskcondesiretree.com/category/categories/iskcon-deities/iskcon-pune/sri-sri-gaura-nitai-close-up-iskcon-pune/\" title=\"View all wallpapers of Sri Sri Gaura Nitai Close up\">Gaura Nitai Close up</a>&nbsp;<a href=\"https://wallpapers.iskcondesiretree.com/category/categories/iskcon-deities/iskcon-pune/sri-sri-radha-kunjabihari/\" title=\"View all wallpapers of Sri Sri Radha Kunjabihari\">Radha Kunjabihari</a>&nbsp;<a href=\"https://wallpapers.iskcondesiretree.com/category/categories/iskcon-deities/iskcon-pune/sri-sri-radha-kunjabihari-close-up/\" title=\"View all wallpapers of Sri Sri Radha Kunjabihari Close up\">Radha Kunjabihari Close up</a></div>\n",
            "\t\t<div>\n",
            "\t\t\t&nbsp;</div>\n",
            "\t\t<div>\n",
            "\t\t\tISKCON Punjabi Bagh&nbsp;<a href=\"https://wallpapers.iskcondesiretree.com/category/categories/iskcon-deities/iskcon-punjabi-bagh/sri-balaram-close-up/\" title=\"View all wallpapers of Sri Balaram Close up\">Balaram Close up</a>&nbsp;<a href=\"https://wallpapers.iskcondesiretree.com/category/categories/iskcon-deities/iskcon-punjabi-bagh/sri-krishna-close-up-iskcon-punjabi-bagh/\" title=\"View all wallpapers of Sri Krishna Close up\">Krishna Close up</a>&nbsp;<a href=\"https://wallpapers.iskcondesiretree.com/category/categories/iskcon-deities/iskcon-punjabi-bagh/sri-radha-close-up-iskcon-punjabi-bagh/\" title=\"View all wallpapers of Sri Radha Close up\">Radha Close up</a>&nbsp;<a href=\"https://wallpapers.iskcondesiretree.com/category/categories/iskcon-deities/iskcon-punjabi-bagh/sri-radhikaraman-close-up/\" title=\"View all wallpapers of Sri Radhikaraman Close up\">Radhikaraman Close up</a>&nbsp;<a href=\"https://wallpapers.iskcondesiretree.com/category/categories/iskcon-deities/iskcon-punjabi-bagh/sri-radhikaraman-feet/\" title=\"View all wallpapers of Sri Radhikaraman Feet\">Radhikaraman Feet</a>&nbsp;<a href=\"https://wallpapers.iskcondesiretree.com/category/categories/iskcon-deities/iskcon-punjabi-bagh/sri-sri-krishna-balaram-iskcon-punjabi-bagh/\" title=\"View all wallpapers of Sri Sri Krishna Balaram\">Krishna Balaram</a>&nbsp;<a href=\"https://wallpapers.iskcondesiretree.com/category/categories/iskcon-deities/iskcon-punjabi-bagh/sri-sri-krishna-balaram-close-up/\" title=\"View all wallpapers of Sri Sri Krishna Balaram Close up\">Krishna Balaram Close up</a>&nbsp;<a href=\"https://wallpapers.iskcondesiretree.com/category/categories/iskcon-deities/iskcon-punjabi-bagh/sri-sri-radha-radhikaraman/\" title=\"View all wallpapers of Sri Sri Radha Radhikaraman\">Radha Radhikaraman</a>&nbsp;<a href=\"https://wallpapers.iskcondesiretree.com/category/categories/iskcon-deities/iskcon-punjabi-bagh/sri-sri-radha-radhikaraman-close-up/\" title=\"View all wallpapers of Sri Sri Radha Radhikaraman Close up\">Radha Radhikaraman Close up</a></div>\n",
            "\t\t<div>\n",
            "\t\t\t<br />\n",
            "\t\t\tISKCON Singapore&nbsp;<a href=\"https://wallpapers.iskcondesiretree.com/category/categories/iskcon-deities/iskcon-singapore/jagannath-baladeva-subhadra-iskcon-singapore/\" title=\"View all wallpapers of Jagannath Baladeva Subhadra\">Jagannath Baladeva Subhadra</a></div>\n",
            "\t\t<div>\n",
            "\t\t\t<br />\n",
            "\t\t\tISKCON Tirupati&nbsp;<a href=\"https://wallpapers.iskcondesiretree.com/category/categories/iskcon-deities/iskcon-tirupati/sri-govinda-close-up/\" title=\"View all wallpapers of Sri Govinda Close up\">Govinda Close up</a>&nbsp;<a href=\"https://wallpapers.iskcondesiretree.com/category/categories/iskcon-deities/iskcon-tirupati/sri-radha-close-up/\" title=\"View all wallpapers of Sri Radha Close up\">Radha Close up</a>&nbsp;<a href=\"https://wallpapers.iskcondesiretree.com/category/categories/iskcon-deities/iskcon-tirupati/sri-sri-radha-govinda/\" title=\"View all wallpapers of Sri Sri Radha Govinda\">Radha Govinda</a>&nbsp;<a href=\"https://wallpapers.iskcondesiretree.com/category/categories/iskcon-deities/iskcon-tirupati/sri-sri-radha-govinda-close-up/\" title=\"View all wallpapers of Sri Sri Radha Govinda Close up\">Radha Govinda Close up</a>&nbsp;<a href=\"https://wallpapers.iskcondesiretree.com/category/categories/iskcon-deities/iskcon-tirupati/sri-sri-radha-govinda-lalita-vishakha/\" title=\"View all wallpapers of Sri Sri Radha Govinda Lalita Vishakha\">Radha Govinda Lalita Vishakha</a>&nbsp;<a href=\"https://wallpapers.iskcondesiretree.com/category/categories/iskcon-deities/iskcon-tirupati/sri-sri-radha-govinda-with-ashtasakhi/\" title=\"View all wallpapers of Sri Sri Radha Govinda with Ashtasakhi\">Radha Govinda with Ashtasakhi</a></div>\n",
            "\t\t<div>\n",
            "\t\t\t&nbsp;</div>\n",
            "\t\t<div>\n",
            "\t\t\tISKCON Toronto&nbsp;<a href=\"https://wallpapers.iskcondesiretree.com/category/categories/iskcon-deities/iskcon-toronto/sri-khirachora-gopinath-close-up/\" title=\"View all wallpapers of Sri Khirachora Gopinath Close up\">Khirachora Gopinath Close up</a>&nbsp;<a href=\"https://wallpapers.iskcondesiretree.com/category/categories/iskcon-deities/iskcon-toronto/sri-khirachora-gopinath-feet/\" title=\"View all wallpapers of Sri Khirachora Gopinath Feet\">Khirachora Gopinath Feet</a>&nbsp;<a href=\"https://wallpapers.iskcondesiretree.com/category/categories/iskcon-deities/iskcon-toronto/sri-radha-close-up-iskcon-toronto/\" title=\"View all wallpapers of Sri Radha Close up\">Radha Close up</a>&nbsp;<a href=\"https://wallpapers.iskcondesiretree.com/category/categories/iskcon-deities/iskcon-toronto/sri-sri-radha-khirachora-gopinath/\" title=\"View all wallpapers of Sri Sri Radha Khirachora Gopinath\">Radha Khirachora Gopinath</a>&nbsp;<a href=\"https://wallpapers.iskcondesiretree.com/category/categories/iskcon-deities/iskcon-toronto/sri-sri-radha-khirachora-gopinath-close-up/\" title=\"View all wallpapers of Sri Sri Radha Khirachora Gopinath Close up\">Radha Khirachora Gopinath Close up</a></div>\n",
            "\t\t<div>\n",
            "\t\t\t&nbsp;</div>\n",
            "\t\t<div>\n",
            "\t\t\tISKCON Ujjain&nbsp;<a href=\"https://wallpapers.iskcondesiretree.com/category/categories/iskcon-deities/iskcon-ujjain/sri-madanmohan-close-up/\" title=\"View all wallpapers of Sri Madanmohan Close up\">Madanmohan Close up</a>&nbsp;<a href=\"https://wallpapers.iskcondesiretree.com/category/categories/iskcon-deities/iskcon-ujjain/sri-madanmohan-feet/\" title=\"View all wallpapers of Sri Madanmohan Feet\">Madanmohan Feet</a>&nbsp;<a href=\"https://wallpapers.iskcondesiretree.com/category/categories/iskcon-deities/iskcon-ujjain/sri-radha-close-up-iskcon-ujjain/\" title=\"View all wallpapers of Sri Radha Close up\">Radha Close up</a>&nbsp;<a href=\"https://wallpapers.iskcondesiretree.com/category/categories/iskcon-deities/iskcon-ujjain/sri-sri-gaura-nitai-iskcon-ujjain/\" title=\"View all wallpapers of Sri Sri Gaura Nitai\">Gaura Nitai</a>&nbsp;<a href=\"https://wallpapers.iskcondesiretree.com/category/categories/iskcon-deities/iskcon-ujjain/sri-sri-gaura-nitai-close-up-iskcon-ujjain/\" title=\"View all wallpapers of Sri Sri Gaura Nitai Close up\">Gaura Nitai Close up</a>&nbsp;<a href=\"https://wallpapers.iskcondesiretree.com/category/categories/iskcon-deities/iskcon-ujjain/sri-sri-krishna-balaram-iskcon-ujjain/\" title=\"View all wallpapers of Sri Sri Krishna Balaram\">Krishna Balaram</a>&nbsp;<a href=\"https://wallpapers.iskcondesiretree.com/category/categories/iskcon-deities/iskcon-ujjain/sri-sri-krishna-balaram-close-up-iskcon-ujjain/\" title=\"View all wallpapers of Sri Sri Krishna Balaram Close up\">Krishna Balaram Close up</a>&nbsp;<a href=\"https://wallpapers.iskcondesiretree.com/category/categories/iskcon-deities/iskcon-ujjain/sri-sri-radha-madanmohan-close-up/\" title=\"View all wallpapers of Sri Sri Radha Madanmohan Close up\">Radha Madanmohan Close up</a>&nbsp;<a href=\"https://wallpapers.iskcondesiretree.com/category/categories/iskcon-deities/iskcon-ujjain/sri-sri-radha-madanmohan-lalita-vishakha/\" title=\"View all wallpapers of Sri Sri Radha Madanmohan Lalita Vishakha\">Radha Madanmohan Lalita Vishakha</a></div>\n",
            "\t\t<div>\n",
            "\t\t\t<br />\n",
            "\t\t\tISKCON Vallabh Vidyanagar&nbsp;<a href=\"https://wallpapers.iskcondesiretree.com/category/categories/iskcon-deities/iskcon-vallabh-vidyanagar/sri-sri-radha-giridhari/\" title=\"View all wallpapers of Sri Sri Radha Giridhari\">Radha Giridhari</a></div>\n",
            "\t\t<div>\n",
            "\t\t\t<br />\n",
            "\t\t\tISKCON Vrindavan&nbsp;<a href=\"https://wallpapers.iskcondesiretree.com/category/categories/iskcon-deities/iskcon-vrindavan/sri-balaram-close-up-iskcon-vrindavan/\" title=\"View all posts filed under Sri Balaram Close up\">Balaram Close up</a>&nbsp;<a href=\"https://wallpapers.iskcondesiretree.com/category/categories/iskcon-deities/iskcon-vrindavan/sri-krishna-close-up-iskcon-vrindavan/\" title=\"View all posts filed under Sri Krishna Close up\">Krishna Close up</a>&nbsp;<a href=\"https://wallpapers.iskcondesiretree.com/category/categories/iskcon-deities/iskcon-vrindavan/sri-radha-close-up-iskcon-vrindavan/\" title=\"View all posts filed under Sri Radha Close up\">Radha Close up</a>&nbsp;<a href=\"https://wallpapers.iskcondesiretree.com/category/categories/iskcon-deities/iskcon-vrindavan/sri-radha-feet-iskcon-vrindavan/\" title=\"View all posts filed under Sri Radha Feet\">Radha Feet</a>&nbsp;<a href=\"https://wallpapers.iskcondesiretree.com/category/categories/iskcon-deities/iskcon-vrindavan/sri-shyamsundar-close-up/\" title=\"View all posts filed under Sri Shyamsundar Close up\">Shyamsundar Close up</a>&nbsp;<a href=\"https://wallpapers.iskcondesiretree.com/category/categories/iskcon-deities/iskcon-vrindavan/sri-shyamsundar-feet/\" title=\"View all posts filed under Sri Shyamsundar Feet\">Shyamsundar Feet</a>&nbsp;<a href=\"https://wallpapers.iskcondesiretree.com/category/categories/iskcon-deities/iskcon-vrindavan/sri-sri-gaura-nitai/\" title=\"View all posts filed under Sri Sri Gaura Nitai\">Gaura Nitai</a>&nbsp;<a href=\"https://wallpapers.iskcondesiretree.com/category/categories/iskcon-deities/iskcon-vrindavan/sri-sri-krishna-balaram/\" title=\"View all posts filed under Sri Sri Krishna Balaram\">Krishna Balaram</a>&nbsp;<a href=\"https://wallpapers.iskcondesiretree.com/category/categories/iskcon-deities/iskcon-vrindavan/sri-sri-krishna-balaram-close-up-iskcon-vrindavan/\" title=\"View all posts filed under Sri Sri Krishna Balaram Close up\">Krishna Balaram Close up</a>&nbsp;<a href=\"https://wallpapers.iskcondesiretree.com/category/categories/iskcon-deities/iskcon-vrindavan/sri-sri-radha-shyamsundar/\" title=\"View all posts filed under Sri Sri Radha Shyamsundar\">Radha Shyamsundar</a>&nbsp;<a href=\"https://wallpapers.iskcondesiretree.com/category/categories/iskcon-deities/iskcon-vrindavan/sri-sri-radha-shyamsundar-close-up-iskcon-vrindavan/\" title=\"View all posts filed under Sri Sri Radha Shyamsundar Close up\">Radha Shyamsundar Close up</a></div>\n",
            "\t\t<div>\n",
            "\t\t\t&nbsp;</div>\n",
            "\t\t<div>\n",
            "\t\t\t<sapn style=\"font-size: 14px;\"><strong>More Deities Wallpapers</strong></sapn></div>\n",
            "\t\t<div>\n",
            "\t\t\t&nbsp;</div>\n",
            "\t\t<div>\n",
            "\t\t\tAmritsar&nbsp;<a href=\"https://wallpapers.iskcondesiretree.com/category/categories/more-deities/amritsar/sri-gokulananda-close-up/\" title=\"View all wallpapers of Sri Gokulananda Close up\">Gokulananda Close up</a>&nbsp;<a href=\"https://wallpapers.iskcondesiretree.com/category/categories/more-deities/amritsar/sri-radha-close-up-iskcon-amritsar/\" title=\"View all wallpapers of Sri Radha Close up\">Radha Close up</a>&nbsp;<a href=\"https://wallpapers.iskcondesiretree.com/category/categories/more-deities/amritsar/sri-sri-radha-gokulananda/\" title=\"View all wallpapers of Sri Sri Radha Gokulananda\">Radha Gokulananda</a>&nbsp;<a href=\"https://wallpapers.iskcondesiretree.com/category/categories/more-deities/amritsar/sri-sri-radha-gokulananda-close-up/\" title=\"View all wallpapers of Sri Sri Radha Gokulananda Close up\">Radha Gokulananda Close up</a></div>\n",
            "\t\t<div>\n",
            "\t\t\t<br />\n",
            "\t\t\tBloomington Illinois&nbsp;<a href=\"https://wallpapers.iskcondesiretree.com/category/categories/more-deities/bloomington-illinois/sri-radha-close-up-iskcon-bloomington-illinois/\" title=\"View all wallpapers of Sri Radha Close up\">Radha Close up</a>&nbsp;<a href=\"https://wallpapers.iskcondesiretree.com/category/categories/more-deities/bloomington-illinois/sri-shyamsundar-close-up-iskcon-bloomington-illinois/\" title=\"View all wallpapers of Sri Shyamsundar Close up\">Shyamsundar Close up</a>&nbsp;<a href=\"https://wallpapers.iskcondesiretree.com/category/categories/more-deities/bloomington-illinois/sri-sri-radha-shyamsundar-bloomington-illinois/\" title=\"View all wallpapers of Sri Sri Radha Shyamsundar\">Radha Shyamsundar</a>&nbsp;<a href=\"https://wallpapers.iskcondesiretree.com/category/categories/more-deities/bloomington-illinois/sri-sri-radha-shyamsundar-close-up-bloomington-illinois/\" title=\"View all wallpapers of Sri Sri Radha Shyamsundar Close up\">Radha Shyamsundar Close up</a></div>\n",
            "\t\t<div>\n",
            "\t\t\t<br />\n",
            "\t\t\tQueens New York&nbsp;<a href=\"https://wallpapers.iskcondesiretree.com/category/categories/more-deities/queens-new-york/sri-hari/\" title=\"View all wallpapers of Sri Hari\">Hari</a>&nbsp;<a href=\"https://wallpapers.iskcondesiretree.com/category/categories/more-deities/queens-new-york/sri-sri-hari-haladhari/\" title=\"View all wallpapers of Sri Sri Hari Haladhari\">Hari Haladhari</a>&nbsp;<a href=\"https://wallpapers.iskcondesiretree.com/category/categories/more-deities/queens-new-york/sri-sri-hari-haladhari-close-up/\" title=\"View all wallpapers of Sri Sri Hari Haladhari Close up\">Hari Haladhari Close up</a></div></div>\n",
            "\t\t</div> <!-- end .widget -->\t</div> <!-- end #sidebar -->\n",
            "\t\t</div> <!-- #info-area -->\n",
            "\n",
            "\t\t<div id=\"main\">\n",
            "\t\t\t<div id=\"wrapper\">\n",
            "\t\t\t\t<article id=\"post-110978\" class=\"entry-image post-110978 post type-post status-publish format-standard has-post-thumbnail hentry category-jai-jagannath tag-art-work tag-jagannath\">\n",
            "\t\t\t<img src=\"https://wallpapers.iskcondesiretree.com/wp-content/uploads/2013/01/024-Jai_Jagannath-640x480.jpg\" alt='Jai Jagannath Wallpaper (024)' width='640' height='480' />\t\t\t<div class=\"image-info\">\n",
            "\t\t\t\t<a href=\"https://wallpapers.iskcondesiretree.com/categories/art-work/jai-jagannath/jai-jagannath-artist-wallpaper-024/%20\" class=\"image-link\">Read more</a>\n",
            "\t\t\t\t<div class=\"title\">\n",
            "\t\t\t\t\t<h2><a href=\"https://wallpapers.iskcondesiretree.com/categories/art-work/jai-jagannath/jai-jagannath-artist-wallpaper-024/%20\">Jai Jagannath Wallpaper (024)</a></h2>\n",
            "\t\t\t\t\t\t\t\t</div> <!-- .title -->\n",
            "\t\t\t\t<div class=\"description\">\n",
            "\t\t\t\t\t<p>Screen Resolutions : 450&#215;800675&#215;1200800&#215;6001024&#215;7681152&#215;8641200&#215;900 1280&#215;7201280&#215;8001280&#215;9601280&#215;10241400&#215;10501440&#215;900 1600&#215;9001600&#215;12001680&#215;10501920&#215;10801920&#215;12001920&#215;1440...</p>\n",
            "\t\t\t\t</div> <!-- .description -->\n",
            "\t\t\t\t<a href=\"https://wallpapers.iskcondesiretree.com/categories/art-work/jai-jagannath/jai-jagannath-artist-wallpaper-024/%20\" class=\"readmore\">Read more<span></span></a>\n",
            "\t\t\t</div> <!-- .image-info -->\n",
            "\t\t</article> <!-- .entry-image -->\n",
            "\t\t\t\t<article id=\"post-244514\" class=\"entry-image post-244514 post type-post status-publish format-standard has-post-thumbnail hentry category-krishna tag-art-work tag-krishna\">\n",
            "\t\t\t<img src=\"https://wallpapers.iskcondesiretree.com/wp-content/uploads/2013/04/034-Krishna-640x480.jpg\" alt='Krishna Wallpaper (034)' width='640' height='480' />\t\t\t<div class=\"image-info\">\n",
            "\t\t\t\t<a href=\"https://wallpapers.iskcondesiretree.com/categories/art-work/krishna/krishna-artist-wallpaper-034/%20\" class=\"image-link\">Read more</a>\n",
            "\t\t\t\t<div class=\"title\">\n",
            "\t\t\t\t\t<h2><a href=\"https://wallpapers.iskcondesiretree.com/categories/art-work/krishna/krishna-artist-wallpaper-034/%20\">Krishna Wallpaper (034)</a></h2>\n",
            "\t\t\t\t\t\t\t\t</div> <!-- .title -->\n",
            "\t\t\t\t<div class=\"description\">\n",
            "\t\t\t\t\t<p>Screen Resolutions :  800&#215;6001024&#215;7681152&#215;8641200&#215;900 1280&#215;7201280&#215;8001280&#215;9601280&#215;10241400&#215;10501440&#215;900 1600&#215;9001600&#215;12001680&#215;10501920&#215;10801920&#215;12001920&#215;1440...</p>\n",
            "\t\t\t\t</div> <!-- .description -->\n",
            "\t\t\t\t<a href=\"https://wallpapers.iskcondesiretree.com/categories/art-work/krishna/krishna-artist-wallpaper-034/%20\" class=\"readmore\">Read more<span></span></a>\n",
            "\t\t\t</div> <!-- .image-info -->\n",
            "\t\t</article> <!-- .entry-image -->\n",
            "\t\t\t\t<article id=\"post-267772\" class=\"entry-image post-267772 post type-post status-publish format-standard hentry category-srimati-radharani-art-work tag-art-work tag-srimati-radharani\">\n",
            "\t\t\t<img src=\"https://wallpapers.iskcondesiretree.com/wp-content/uploads/et_temp/004-Srimati_Radharani-96508_640x480.jpg\" alt='Srimati Radharani Wallpaper (004)' width='640' height='480' />\t\t\t<div class=\"image-info\">\n",
            "\t\t\t\t<a href=\"https://wallpapers.iskcondesiretree.com/categories/art-work/srimati-radharani-art-work/srimati-radharani-artist-wallpaper-004/%20\" class=\"image-link\">Read more</a>\n",
            "\t\t\t\t<div class=\"title\">\n",
            "\t\t\t\t\t<h2><a href=\"https://wallpapers.iskcondesiretree.com/categories/art-work/srimati-radharani-art-work/srimati-radharani-artist-wallpaper-004/%20\">Srimati Radharani Wallpaper (004)</a></h2>\n",
            "\t\t\t\t\t\t\t\t</div> <!-- .title -->\n",
            "\t\t\t\t<div class=\"description\">\n",
            "\t\t\t\t\t<p>Screen Resolutions :  450&#215;800675&#215;1200800&#215;6001024&#215;7681152&#215;8641200&#215;900 1280&#215;7201280&#215;8001280&#215;9601280&#215;10241400&#215;10501440&#215;900 1600&#215;9001600&#215;12001680&#215;10501920&#215;10801920&#215;12001920&#215;1440...</p>\n",
            "\t\t\t\t</div> <!-- .description -->\n",
            "\t\t\t\t<a href=\"https://wallpapers.iskcondesiretree.com/categories/art-work/srimati-radharani-art-work/srimati-radharani-artist-wallpaper-004/%20\" class=\"readmore\">Read more<span></span></a>\n",
            "\t\t\t</div> <!-- .image-info -->\n",
            "\t\t</article> <!-- .entry-image -->\n",
            "\t\t\t\t<article id=\"post-150121\" class=\"entry-image post-150121 post type-post status-publish format-standard has-post-thumbnail hentry category-krishna tag-art-work tag-krishna\">\n",
            "\t\t\t<img src=\"https://wallpapers.iskcondesiretree.com/wp-content/uploads/2012/08/001-Krishna_Vision-640x480.jpg\" alt='Krishna Vision Wallpaper (001)' width='640' height='480' />\t\t\t<div class=\"image-info\">\n",
            "\t\t\t\t<a href=\"https://wallpapers.iskcondesiretree.com/categories/art-work/krishna/krishna-vision-artist-wallpaper-001/%20\" class=\"image-link\">Read more</a>\n",
            "\t\t\t\t<div class=\"title\">\n",
            "\t\t\t\t\t<h2><a href=\"https://wallpapers.iskcondesiretree.com/categories/art-work/krishna/krishna-vision-artist-wallpaper-001/%20\">Krishna Vision Wallpaper (001)</a></h2>\n",
            "\t\t\t\t\t\t\t\t</div> <!-- .title -->\n",
            "\t\t\t\t<div class=\"description\">\n",
            "\t\t\t\t\t<p>Screen Resolutions :  450&#215;800675&#215;1200800&#215;6001024&#215;7681152&#215;8641200&#215;900 1280&#215;7201280&#215;8001280&#215;9601280&#215;10241400&#215;10501440&#215;900 1600&#215;9001600&#215;12001680&#215;10501920&#215;10801920&#215;12001920&#215;1440...</p>\n",
            "\t\t\t\t</div> <!-- .description -->\n",
            "\t\t\t\t<a href=\"https://wallpapers.iskcondesiretree.com/categories/art-work/krishna/krishna-vision-artist-wallpaper-001/%20\" class=\"readmore\">Read more<span></span></a>\n",
            "\t\t\t</div> <!-- .image-info -->\n",
            "\t\t</article> <!-- .entry-image -->\n",
            "\t\t\t\t<article id=\"post-267371\" class=\"entry-image post-267371 post type-post status-publish format-standard hentry category-devotees tag-art-work tag-devotees tag-prabhupada\">\n",
            "\t\t\t<img src=\"https://wallpapers.iskcondesiretree.com/wp-content/uploads/et_temp/001-ISKCON_Founder_Acharya_Srila_Prabhupada-50661_640x480.jpg\" alt='ISKCON Founder Acharya Srila Prabhupada Wallpaper (001)' width='640' height='480' />\t\t\t<div class=\"image-info\">\n",
            "\t\t\t\t<a href=\"https://wallpapers.iskcondesiretree.com/categories/art-work/devotees/iskcon-founder-acharya-srila-prabhupada-wallpaper-001/%20\" class=\"image-link\">Read more</a>\n",
            "\t\t\t\t<div class=\"title\">\n",
            "\t\t\t\t\t<h2><a href=\"https://wallpapers.iskcondesiretree.com/categories/art-work/devotees/iskcon-founder-acharya-srila-prabhupada-wallpaper-001/%20\">ISKCON Founder Acharya Srila Prabhupada Wallpaper (001)</a></h2>\n",
            "\t\t\t\t\t\t\t\t</div> <!-- .title -->\n",
            "\t\t\t\t<div class=\"description\">\n",
            "\t\t\t\t\t<p>Screen Resolutions :  450&#215;800675&#215;1200800&#215;6001024&#215;7681152&#215;8641200&#215;900 1280&#215;7201280&#215;8001280&#215;9601280&#215;10241400&#215;10501440&#215;900 1600&#215;9001600&#215;12001680&#215;10501920&#215;10801920&#215;12001920&#215;1440...</p>\n",
            "\t\t\t\t</div> <!-- .description -->\n",
            "\t\t\t\t<a href=\"https://wallpapers.iskcondesiretree.com/categories/art-work/devotees/iskcon-founder-acharya-srila-prabhupada-wallpaper-001/%20\" class=\"readmore\">Read more<span></span></a>\n",
            "\t\t\t</div> <!-- .image-info -->\n",
            "\t\t</article> <!-- .entry-image -->\n",
            "\t\t\t\t<article id=\"post-181848\" class=\"entry-image post-181848 post type-post status-publish format-standard has-post-thumbnail hentry category-holy-name tag-art-work tag-chaitanya-mahaprabhu tag-gaura tag-gaura-nitai tag-gaurachandra tag-hare-krishna tag-holy-name tag-krishna tag-mahamantra tag-nitai tag-nitai-gaurachandra tag-nityananda\">\n",
            "\t\t\t<img src=\"https://wallpapers.iskcondesiretree.com/wp-content/uploads/2013/01/003-Chant_Hare_Krishna_Mahamantra-640x480.jpg\" alt='Chant Hare Krishna Mahamantra Wallpaper (003)' width='640' height='480' />\t\t\t<div class=\"image-info\">\n",
            "\t\t\t\t<a href=\"https://wallpapers.iskcondesiretree.com/categories/art-work/holy-name/chant-hare-krishna-mahamantra-artist-wallpaper-003/%20\" class=\"image-link\">Read more</a>\n",
            "\t\t\t\t<div class=\"title\">\n",
            "\t\t\t\t\t<h2><a href=\"https://wallpapers.iskcondesiretree.com/categories/art-work/holy-name/chant-hare-krishna-mahamantra-artist-wallpaper-003/%20\">Chant Hare Krishna Mahamantra Wallpaper (003)</a></h2>\n",
            "\t\t\t\t\t\t\t\t</div> <!-- .title -->\n",
            "\t\t\t\t<div class=\"description\">\n",
            "\t\t\t\t\t<p>Screen Resolutions : 800&#215;6001024&#215;7681152&#215;8641200&#215;900 1280&#215;7201280&#215;8001280&#215;9601280&#215;10241400&#215;10501440&#215;900 1600&#215;9001600&#215;12001680&#215;10501920&#215;10801920&#215;12001920&#215;1440...</p>\n",
            "\t\t\t\t</div> <!-- .description -->\n",
            "\t\t\t\t<a href=\"https://wallpapers.iskcondesiretree.com/categories/art-work/holy-name/chant-hare-krishna-mahamantra-artist-wallpaper-003/%20\" class=\"readmore\">Read more<span></span></a>\n",
            "\t\t\t</div> <!-- .image-info -->\n",
            "\t\t</article> <!-- .entry-image -->\n",
            "\t\t\t\t<article id=\"post-267427\" class=\"entry-image post-267427 post type-post status-publish format-standard hentry category-devotees tag-art-work tag-devotees tag-his-holiness-kadamba-kanana-swami\">\n",
            "\t\t\t<img src=\"https://wallpapers.iskcondesiretree.com/wp-content/uploads/et_temp/005-ISKCON_Devotee_Kadamba_Kanana_Swami-57700_640x480.jpg\" alt='His Holiness Kadamba Kanana Swami Wallpaper (005)' width='640' height='480' />\t\t\t<div class=\"image-info\">\n",
            "\t\t\t\t<a href=\"https://wallpapers.iskcondesiretree.com/categories/art-work/devotees/his-holiness-kadamba-kanana-swami-wallpaper-005/%20\" class=\"image-link\">Read more</a>\n",
            "\t\t\t\t<div class=\"title\">\n",
            "\t\t\t\t\t<h2><a href=\"https://wallpapers.iskcondesiretree.com/categories/art-work/devotees/his-holiness-kadamba-kanana-swami-wallpaper-005/%20\">His Holiness Kadamba Kanana Swami Wallpaper (005)</a></h2>\n",
            "\t\t\t\t\t\t\t\t</div> <!-- .title -->\n",
            "\t\t\t\t<div class=\"description\">\n",
            "\t\t\t\t\t<p>Screen Resolutions :  450&#215;800675&#215;1200800&#215;6001024&#215;7681152&#215;8641200&#215;900 1280&#215;7201280&#215;8001280&#215;9601280&#215;10241400&#215;10501440&#215;900 1600&#215;9001600&#215;12001680&#215;10501920&#215;10801920&#215;12001920&#215;1440...</p>\n",
            "\t\t\t\t</div> <!-- .description -->\n",
            "\t\t\t\t<a href=\"https://wallpapers.iskcondesiretree.com/categories/art-work/devotees/his-holiness-kadamba-kanana-swami-wallpaper-005/%20\" class=\"readmore\">Read more<span></span></a>\n",
            "\t\t\t</div> <!-- .image-info -->\n",
            "\t\t</article> <!-- .entry-image -->\n",
            "\t\t\t\t<article id=\"post-181920\" class=\"entry-image post-181920 post type-post status-publish format-standard has-post-thumbnail hentry category-valentine-day tag-art-work tag-gopinath tag-hare-krishna tag-holy-name tag-i-love-you tag-krishna tag-valentine-day\">\n",
            "\t\t\t<img src=\"https://wallpapers.iskcondesiretree.com/wp-content/uploads/2013/04/003-Valentine_Day-640x480.jpg\" alt='Valentine Day Wallpaper (003)' width='640' height='480' />\t\t\t<div class=\"image-info\">\n",
            "\t\t\t\t<a href=\"https://wallpapers.iskcondesiretree.com/categories/art-work/valentine-day/valentine-day-wallpaper-003/%20\" class=\"image-link\">Read more</a>\n",
            "\t\t\t\t<div class=\"title\">\n",
            "\t\t\t\t\t<h2><a href=\"https://wallpapers.iskcondesiretree.com/categories/art-work/valentine-day/valentine-day-wallpaper-003/%20\">Valentine Day Wallpaper (003)</a></h2>\n",
            "\t\t\t\t\t\t\t\t</div> <!-- .title -->\n",
            "\t\t\t\t<div class=\"description\">\n",
            "\t\t\t\t\t<p>Screen Resolutions : 450&#215;800675&#215;1200800&#215;6001024&#215;7681152&#215;8641200&#215;900 1280&#215;7201280&#215;8001280&#215;9601280&#215;10241400&#215;10501440&#215;900 1600&#215;9001600&#215;12001680&#215;10501920&#215;10801920&#215;12001920&#215;1440...</p>\n",
            "\t\t\t\t</div> <!-- .description -->\n",
            "\t\t\t\t<a href=\"https://wallpapers.iskcondesiretree.com/categories/art-work/valentine-day/valentine-day-wallpaper-003/%20\" class=\"readmore\">Read more<span></span></a>\n",
            "\t\t\t</div> <!-- .image-info -->\n",
            "\t\t</article> <!-- .entry-image -->\n",
            "\t\t\t\t<article id=\"post-244458\" class=\"entry-image post-244458 post type-post status-publish format-standard has-post-thumbnail hentry category-krishna tag-art-work tag-krishna\">\n",
            "\t\t\t<img src=\"https://wallpapers.iskcondesiretree.com/wp-content/uploads/2013/04/020-Krishna-640x480.jpg\" alt='Krishna Wallpaper (020)' width='640' height='480' />\t\t\t<div class=\"image-info\">\n",
            "\t\t\t\t<a href=\"https://wallpapers.iskcondesiretree.com/categories/art-work/krishna/krishna-artist-wallpaper-020/%20\" class=\"image-link\">Read more</a>\n",
            "\t\t\t\t<div class=\"title\">\n",
            "\t\t\t\t\t<h2><a href=\"https://wallpapers.iskcondesiretree.com/categories/art-work/krishna/krishna-artist-wallpaper-020/%20\">Krishna Wallpaper (020)</a></h2>\n",
            "\t\t\t\t\t\t\t\t</div> <!-- .title -->\n",
            "\t\t\t\t<div class=\"description\">\n",
            "\t\t\t\t\t<p>Screen Resolutions :  450&#215;800675&#215;1200800&#215;6001024&#215;7681152&#215;8641200&#215;900 1280&#215;7201280&#215;8001280&#215;9601280&#215;10241400&#215;10501440&#215;900 1600&#215;9001600&#215;12001680&#215;10501920&#215;10801920&#215;12001920&#215;1440...</p>\n",
            "\t\t\t\t</div> <!-- .description -->\n",
            "\t\t\t\t<a href=\"https://wallpapers.iskcondesiretree.com/categories/art-work/krishna/krishna-artist-wallpaper-020/%20\" class=\"readmore\">Read more<span></span></a>\n",
            "\t\t\t</div> <!-- .image-info -->\n",
            "\t\t</article> <!-- .entry-image -->\n",
            "\t\t\t\t<article id=\"post-267407\" class=\"entry-image post-267407 post type-post status-publish format-standard hentry category-devotees tag-art-work tag-devotees tag-his-holiness-devamrita-swami\">\n",
            "\t\t\t<img src=\"https://wallpapers.iskcondesiretree.com/wp-content/uploads/et_temp/002-ISKCON_Devoteee_Devamrita_Swami-52206_640x480.jpg\" alt='His Holiness Devamrita Swami Wallpaper (002)' width='640' height='480' />\t\t\t<div class=\"image-info\">\n",
            "\t\t\t\t<a href=\"https://wallpapers.iskcondesiretree.com/categories/art-work/devotees/his-holiness-devamrita-swami-wallpaper-002/%20\" class=\"image-link\">Read more</a>\n",
            "\t\t\t\t<div class=\"title\">\n",
            "\t\t\t\t\t<h2><a href=\"https://wallpapers.iskcondesiretree.com/categories/art-work/devotees/his-holiness-devamrita-swami-wallpaper-002/%20\">His Holiness Devamrita Swami Wallpaper (002)</a></h2>\n",
            "\t\t\t\t\t\t\t\t</div> <!-- .title -->\n",
            "\t\t\t\t<div class=\"description\">\n",
            "\t\t\t\t\t<p>Screen Resolutions :  450&#215;800675&#215;1200800&#215;6001024&#215;7681152&#215;8641200&#215;900 1280&#215;7201280&#215;8001280&#215;9601280&#215;10241400&#215;10501440&#215;900 1600&#215;9001600&#215;12001680&#215;10501920&#215;10801920&#215;12001920&#215;1440...</p>\n",
            "\t\t\t\t</div> <!-- .description -->\n",
            "\t\t\t\t<a href=\"https://wallpapers.iskcondesiretree.com/categories/art-work/devotees/his-holiness-devamrita-swami-wallpaper-002/%20\" class=\"readmore\">Read more<span></span></a>\n",
            "\t\t\t</div> <!-- .image-info -->\n",
            "\t\t</article> <!-- .entry-image -->\n",
            "\t\t\t\t<article id=\"post-165132\" class=\"entry-image post-165132 post type-post status-publish format-standard has-post-thumbnail hentry category-jai-jagannath tag-art-work tag-jagannath\">\n",
            "\t\t\t<img src=\"https://wallpapers.iskcondesiretree.com/wp-content/uploads/2013/01/054-Jai_Jagannath-640x480.jpg\" alt='Jai Jagannath Wallpaper (054)' width='640' height='480' />\t\t\t<div class=\"image-info\">\n",
            "\t\t\t\t<a href=\"https://wallpapers.iskcondesiretree.com/categories/art-work/jai-jagannath/jai-jagannath-artist-wallpaper-054/%20\" class=\"image-link\">Read more</a>\n",
            "\t\t\t\t<div class=\"title\">\n",
            "\t\t\t\t\t<h2><a href=\"https://wallpapers.iskcondesiretree.com/categories/art-work/jai-jagannath/jai-jagannath-artist-wallpaper-054/%20\">Jai Jagannath Wallpaper (054)</a></h2>\n",
            "\t\t\t\t\t\t\t\t</div> <!-- .title -->\n",
            "\t\t\t\t<div class=\"description\">\n",
            "\t\t\t\t\t<p>Screen Resolutions :  450&#215;800675&#215;1200800&#215;6001024&#215;7681152&#215;8641200&#215;900 1280&#215;7201280&#215;8001280&#215;9601280&#215;10241400&#215;10501440&#215;900 1600&#215;9001600&#215;12001680&#215;10501920&#215;10801920&#215;12001920&#215;1440...</p>\n",
            "\t\t\t\t</div> <!-- .description -->\n",
            "\t\t\t\t<a href=\"https://wallpapers.iskcondesiretree.com/categories/art-work/jai-jagannath/jai-jagannath-artist-wallpaper-054/%20\" class=\"readmore\">Read more<span></span></a>\n",
            "\t\t\t</div> <!-- .image-info -->\n",
            "\t\t</article> <!-- .entry-image -->\n",
            "\t\t\t\t<article id=\"post-267143\" class=\"entry-image post-267143 post type-post status-publish format-standard hentry category-sri-narasimha-deva-art-work tag-art-work tag-narasimha-deva\">\n",
            "\t\t\t<img src=\"https://wallpapers.iskcondesiretree.com/wp-content/uploads/et_temp/007-Sri_Narasimha_Deva-63219_640x480.jpg\" alt='Sri Narasimha Deva Wallpaper (007)' width='640' height='480' />\t\t\t<div class=\"image-info\">\n",
            "\t\t\t\t<a href=\"https://wallpapers.iskcondesiretree.com/categories/art-work/sri-narasimha-deva-art-work/sri-narasimha-deva-artist-wallpaper-007/%20\" class=\"image-link\">Read more</a>\n",
            "\t\t\t\t<div class=\"title\">\n",
            "\t\t\t\t\t<h2><a href=\"https://wallpapers.iskcondesiretree.com/categories/art-work/sri-narasimha-deva-art-work/sri-narasimha-deva-artist-wallpaper-007/%20\">Sri Narasimha Deva Wallpaper (007)</a></h2>\n",
            "\t\t\t\t\t\t\t\t</div> <!-- .title -->\n",
            "\t\t\t\t<div class=\"description\">\n",
            "\t\t\t\t\t<p>Screen Resolutions : 450&#215;800675&#215;1200800&#215;6001024&#215;7681152&#215;8641200&#215;900 1280&#215;7201280&#215;8001280&#215;9601280&#215;10241400&#215;10501440&#215;900 1600&#215;9001600&#215;12001680&#215;10501920&#215;10801920&#215;12001920&#215;1440...</p>\n",
            "\t\t\t\t</div> <!-- .description -->\n",
            "\t\t\t\t<a href=\"https://wallpapers.iskcondesiretree.com/categories/art-work/sri-narasimha-deva-art-work/sri-narasimha-deva-artist-wallpaper-007/%20\" class=\"readmore\">Read more<span></span></a>\n",
            "\t\t\t</div> <!-- .image-info -->\n",
            "\t\t</article> <!-- .entry-image -->\n",
            "\t\t\t\t<article id=\"post-207716\" class=\"entry-image post-207716 post type-post status-publish format-standard has-post-thumbnail hentry category-holy-name tag-art-work tag-hare-krishna tag-holy-name\">\n",
            "\t\t\t<img src=\"https://wallpapers.iskcondesiretree.com/wp-content/uploads/2012/11/008-Chant_Hare_Krishna_and_be_happy-640x480.jpg\" alt='Chant Hare Krishna and be happy Wallpaper (008)' width='640' height='480' />\t\t\t<div class=\"image-info\">\n",
            "\t\t\t\t<a href=\"https://wallpapers.iskcondesiretree.com/categories/art-work/holy-name/chant-hare-krishna-and-be-happy-artist-wallpaper-008/%20\" class=\"image-link\">Read more</a>\n",
            "\t\t\t\t<div class=\"title\">\n",
            "\t\t\t\t\t<h2><a href=\"https://wallpapers.iskcondesiretree.com/categories/art-work/holy-name/chant-hare-krishna-and-be-happy-artist-wallpaper-008/%20\">Chant Hare Krishna and be happy Wallpaper (008)</a></h2>\n",
            "\t\t\t\t\t\t\t\t</div> <!-- .title -->\n",
            "\t\t\t\t<div class=\"description\">\n",
            "\t\t\t\t\t<p>Screen Resolutions :  450&#215;800675&#215;1200800&#215;6001024&#215;7681152&#215;8641200&#215;900 1280&#215;7201280&#215;8001280&#215;9601280&#215;10241400&#215;10501440&#215;900 1600&#215;9001600&#215;12001680&#215;10501920&#215;10801920&#215;12001920&#215;1440...</p>\n",
            "\t\t\t\t</div> <!-- .description -->\n",
            "\t\t\t\t<a href=\"https://wallpapers.iskcondesiretree.com/categories/art-work/holy-name/chant-hare-krishna-and-be-happy-artist-wallpaper-008/%20\" class=\"readmore\">Read more<span></span></a>\n",
            "\t\t\t</div> <!-- .image-info -->\n",
            "\t\t</article> <!-- .entry-image -->\n",
            "\t\t\t\t<article id=\"post-254617\" class=\"entry-image post-254617 post type-post status-publish format-standard hentry category-radha-krishna tag-art-work tag-krishna tag-radha-krishna tag-srimati-radharani\">\n",
            "\t\t\t<img src=\"https://wallpapers.iskcondesiretree.com/wp-content/uploads/et_temp/020-Radha_Krishna-134744_640x480.jpg\" alt='Radha Krishna Wallpaper (020)' width='640' height='480' />\t\t\t<div class=\"image-info\">\n",
            "\t\t\t\t<a href=\"https://wallpapers.iskcondesiretree.com/categories/art-work/radha-krishna/radha-krishna-artist-wallpaper-020/%20\" class=\"image-link\">Read more</a>\n",
            "\t\t\t\t<div class=\"title\">\n",
            "\t\t\t\t\t<h2><a href=\"https://wallpapers.iskcondesiretree.com/categories/art-work/radha-krishna/radha-krishna-artist-wallpaper-020/%20\">Radha Krishna Wallpaper (020)</a></h2>\n",
            "\t\t\t\t\t\t\t\t</div> <!-- .title -->\n",
            "\t\t\t\t<div class=\"description\">\n",
            "\t\t\t\t\t<p>Screen Resolutions :  800&#215;6001024&#215;7681152&#215;8641200&#215;900 1280&#215;7201280&#215;8001280&#215;9601280&#215;10241400&#215;10501440&#215;900 1600&#215;9001600&#215;12001680&#215;10501920&#215;10801920&#215;12001920&#215;1440...</p>\n",
            "\t\t\t\t</div> <!-- .description -->\n",
            "\t\t\t\t<a href=\"https://wallpapers.iskcondesiretree.com/categories/art-work/radha-krishna/radha-krishna-artist-wallpaper-020/%20\" class=\"readmore\">Read more<span></span></a>\n",
            "\t\t\t</div> <!-- .image-info -->\n",
            "\t\t</article> <!-- .entry-image -->\n",
            "\t\t\t\t<article id=\"post-113806\" class=\"entry-image post-113806 post type-post status-publish format-standard has-post-thumbnail hentry category-jai-jagannath tag-art-work tag-jagannath\">\n",
            "\t\t\t<img src=\"https://wallpapers.iskcondesiretree.com/wp-content/uploads/2013/01/031-Jai_Jagannath-640x480.jpg\" alt='Jai Jagannath Wallpaper (031)' width='640' height='480' />\t\t\t<div class=\"image-info\">\n",
            "\t\t\t\t<a href=\"https://wallpapers.iskcondesiretree.com/categories/art-work/jai-jagannath/jai-jagannath-artist-wallpaper-031/%20\" class=\"image-link\">Read more</a>\n",
            "\t\t\t\t<div class=\"title\">\n",
            "\t\t\t\t\t<h2><a href=\"https://wallpapers.iskcondesiretree.com/categories/art-work/jai-jagannath/jai-jagannath-artist-wallpaper-031/%20\">Jai Jagannath Wallpaper (031)</a></h2>\n",
            "\t\t\t\t\t\t\t\t</div> <!-- .title -->\n",
            "\t\t\t\t<div class=\"description\">\n",
            "\t\t\t\t\t<p>Screen Resolutions : 450&#215;800675&#215;1200800&#215;6001024&#215;7681152&#215;8641200&#215;900 1280&#215;7201280&#215;8001280&#215;9601280&#215;10241400&#215;10501440&#215;900 1600&#215;9001600&#215;12001680&#215;10501920&#215;10801920&#215;12001920&#215;1440...</p>\n",
            "\t\t\t\t</div> <!-- .description -->\n",
            "\t\t\t\t<a href=\"https://wallpapers.iskcondesiretree.com/categories/art-work/jai-jagannath/jai-jagannath-artist-wallpaper-031/%20\" class=\"readmore\">Read more<span></span></a>\n",
            "\t\t\t</div> <!-- .image-info -->\n",
            "\t\t</article> <!-- .entry-image -->\n",
            "\t\t\t\t<article id=\"post-207765\" class=\"entry-image post-207765 post type-post status-publish format-standard has-post-thumbnail hentry category-shrinathji tag-art-work tag-giridhari tag-gopal tag-krishna tag-shrinathji\">\n",
            "\t\t\t<img src=\"https://wallpapers.iskcondesiretree.com/wp-content/uploads/2013/04/001-Shrinathji-640x480.jpg\" alt='Shrinathji Wallpaper (001)' width='640' height='480' />\t\t\t<div class=\"image-info\">\n",
            "\t\t\t\t<a href=\"https://wallpapers.iskcondesiretree.com/categories/art-work/shrinathji/shrinathji-artist-wallpaper-001/%20\" class=\"image-link\">Read more</a>\n",
            "\t\t\t\t<div class=\"title\">\n",
            "\t\t\t\t\t<h2><a href=\"https://wallpapers.iskcondesiretree.com/categories/art-work/shrinathji/shrinathji-artist-wallpaper-001/%20\">Shrinathji Wallpaper (001)</a></h2>\n",
            "\t\t\t\t\t\t\t\t</div> <!-- .title -->\n",
            "\t\t\t\t<div class=\"description\">\n",
            "\t\t\t\t\t<p>Screen Resolutions :  450&#215;800675&#215;1200800&#215;6001024&#215;7681152&#215;8641200&#215;900 1280&#215;7201280&#215;8001280&#215;9601280&#215;10241400&#215;10501440&#215;900 1600&#215;9001600&#215;12001680&#215;10501920&#215;10801920&#215;12001920&#215;1440...</p>\n",
            "\t\t\t\t</div> <!-- .description -->\n",
            "\t\t\t\t<a href=\"https://wallpapers.iskcondesiretree.com/categories/art-work/shrinathji/shrinathji-artist-wallpaper-001/%20\" class=\"readmore\">Read more<span></span></a>\n",
            "\t\t\t</div> <!-- .image-info -->\n",
            "\t\t</article> <!-- .entry-image -->\n",
            "\t\n",
            "\t<div class=\"pagination clearfix\">\n",
            "\t<div class=\"alignleft\"><a href=\"https://wallpapers.iskcondesiretree.com/page/2\" >&laquo; Older Entries</a></div>\n",
            "\t<div class=\"alignright\"></div>\n",
            "</div>\n",
            "\t\t\t</div> <!-- #wrapper -->\n",
            "\t\t</div> <!-- #main -->\n",
            "\t</div> <!-- #main-wrap -->\n",
            "\t<div class=\"et_social_pin_images_outer\">\n",
            "\t\t\t\t\t<div class=\"et_social_pinterest_window\">\n",
            "\t\t\t\t\t\t<div class=\"et_social_modal_header\"><h3>Pin It on Pinterest</h3><span class=\"et_social_close\"></span></div>\n",
            "\t\t\t\t\t\t<div class=\"et_social_pin_images\" data-permalink=\"https://wallpapers.iskcondesiretree.com/categories/art-work/shrinathji/shrinathji-artist-wallpaper-001/%20\" data-title=\"Shrinathji Wallpaper (001)\" data-post_id=\"207765\"></div>\n",
            "\t\t\t\t\t</div>\n",
            "\t\t\t\t</div><div class=\"et_social_sidebar_networks et_social_visible_sidebar et_social_slideright et_social_animated et_social_rectangle et_social_sidebar_flip et_social_mobile_on\">\n",
            "\t\t\t\t\t\n",
            "\t\t\t\t\t<ul class=\"et_social_icons_container\"><li class=\"et_social_facebook\">\n",
            "\t\t\t\t\t\t\t\t\t<a href=\"http://www.facebook.com/sharer.php?u=https%3A%2F%2Fwallpapers.iskcondesiretree.com&#038;t=Hare%20Krishna%20Wallpapers\" class=\"et_social_share\" rel=\"nofollow\" data-social_name=\"facebook\" data-post_id=\"-1\" data-social_type=\"share\" data-location=\"sidebar\">\n",
            "\t\t\t\t\t\t\t\t\t\t<i class=\"et_social_icon et_social_icon_facebook\"></i>\n",
            "\t\t\t\t\t\t\t\t\t\t\n",
            "\t\t\t\t\t\t\t\t\t\t\n",
            "\t\t\t\t\t\t\t\t\t\t<span class=\"et_social_overlay\"></span>\n",
            "\t\t\t\t\t\t\t\t\t</a>\n",
            "\t\t\t\t\t\t\t\t</li><li class=\"et_social_twitter\">\n",
            "\t\t\t\t\t\t\t\t\t<a href=\"http://twitter.com/share?text=Hare%20Krishna%20Wallpapers&#038;url=https%3A%2F%2Fwallpapers.iskcondesiretree.com&#038;via=\" class=\"et_social_share\" rel=\"nofollow\" data-social_name=\"twitter\" data-post_id=\"-1\" data-social_type=\"share\" data-location=\"sidebar\">\n",
            "\t\t\t\t\t\t\t\t\t\t<i class=\"et_social_icon et_social_icon_twitter\"></i>\n",
            "\t\t\t\t\t\t\t\t\t\t\n",
            "\t\t\t\t\t\t\t\t\t\t\n",
            "\t\t\t\t\t\t\t\t\t\t<span class=\"et_social_overlay\"></span>\n",
            "\t\t\t\t\t\t\t\t\t</a>\n",
            "\t\t\t\t\t\t\t\t</li><li class=\"et_social_googleplus\">\n",
            "\t\t\t\t\t\t\t\t\t<a href=\"https://plus.google.com/share?url=https%3A%2F%2Fwallpapers.iskcondesiretree.com&#038;t=Hare%20Krishna%20Wallpapers\" class=\"et_social_share\" rel=\"nofollow\" data-social_name=\"googleplus\" data-post_id=\"-1\" data-social_type=\"share\" data-location=\"sidebar\">\n",
            "\t\t\t\t\t\t\t\t\t\t<i class=\"et_social_icon et_social_icon_googleplus\"></i>\n",
            "\t\t\t\t\t\t\t\t\t\t\n",
            "\t\t\t\t\t\t\t\t\t\t\n",
            "\t\t\t\t\t\t\t\t\t\t<span class=\"et_social_overlay\"></span>\n",
            "\t\t\t\t\t\t\t\t\t</a>\n",
            "\t\t\t\t\t\t\t\t</li><li class=\"et_social_pinterest\">\n",
            "\t\t\t\t\t\t\t\t\t<a href=\"#\" class=\"et_social_share_pinterest\" rel=\"nofollow\" data-social_name=\"pinterest\" data-post_id=\"-1\" data-social_type=\"share\" data-location=\"sidebar\">\n",
            "\t\t\t\t\t\t\t\t\t\t<i class=\"et_social_icon et_social_icon_pinterest\"></i>\n",
            "\t\t\t\t\t\t\t\t\t\t\n",
            "\t\t\t\t\t\t\t\t\t\t\n",
            "\t\t\t\t\t\t\t\t\t\t<span class=\"et_social_overlay\"></span>\n",
            "\t\t\t\t\t\t\t\t\t</a>\n",
            "\t\t\t\t\t\t\t\t</li><li class=\"et_social_like\">\n",
            "\t\t\t\t\t\t\t\t\t<a href=\"\" class=\"et_social_share\" rel=\"nofollow\" data-social_name=\"like\" data-post_id=\"-1\" data-social_type=\"like\" data-location=\"sidebar\">\n",
            "\t\t\t\t\t\t\t\t\t\t<i class=\"et_social_icon et_social_icon_like\"></i>\n",
            "\t\t\t\t\t\t\t\t\t\t\n",
            "\t\t\t\t\t\t\t\t\t\t<div class=\"et_social_count\">\n",
            "\t\t\t\t\t\t<span>3</span>\n",
            "\t\t\t\t\t</div>\n",
            "\t\t\t\t\t\t\t\t\t\t<span class=\"et_social_overlay\"></span>\n",
            "\t\t\t\t\t\t\t\t\t</a>\n",
            "\t\t\t\t\t\t\t\t</li></ul>\n",
            "\t\t\t\t\t<span class=\"et_social_hide_sidebar et_social_icon\"></span>\n",
            "\t\t\t\t</div><div class=\"et_social_mobile_button\"></div>\n",
            "\t\t\t\t\t<div class=\"et_social_mobile et_social_fadein\">\n",
            "\t\t\t\t\t\t<div class=\"et_social_heading\">Share This</div>\n",
            "\t\t\t\t\t\t<span class=\"et_social_close\"></span>\n",
            "\t\t\t\t\t\t<div class=\"et_social_networks et_social_simple et_social_rounded et_social_left\">\n",
            "\t\t\t\t\t\t\t<ul class=\"et_social_icons_container\"><li class=\"et_social_facebook\">\n",
            "\t\t\t\t\t\t\t\t\t<a href=\"http://www.facebook.com/sharer.php?u=https%3A%2F%2Fwallpapers.iskcondesiretree.com&#038;t=Hare%20Krishna%20Wallpapers\" class=\"et_social_share\" rel=\"nofollow\" data-social_name=\"facebook\" data-post_id=\"-1\" data-social_type=\"share\" data-location=\"sidebar\">\n",
            "\t\t\t\t\t\t\t\t\t\t<i class=\"et_social_icon et_social_icon_facebook\"></i>\n",
            "\t\t\t\t\t\t\t\t\t\t<div class=\"et_social_network_label\"><div class=\"et_social_networkname\">Facebook</div></div>\n",
            "\t\t\t\t\t\t\t\t\t\t\n",
            "\t\t\t\t\t\t\t\t\t\t<span class=\"et_social_overlay\"></span>\n",
            "\t\t\t\t\t\t\t\t\t</a>\n",
            "\t\t\t\t\t\t\t\t</li><li class=\"et_social_twitter\">\n",
            "\t\t\t\t\t\t\t\t\t<a href=\"http://twitter.com/share?text=Hare%20Krishna%20Wallpapers&#038;url=https%3A%2F%2Fwallpapers.iskcondesiretree.com&#038;via=\" class=\"et_social_share\" rel=\"nofollow\" data-social_name=\"twitter\" data-post_id=\"-1\" data-social_type=\"share\" data-location=\"sidebar\">\n",
            "\t\t\t\t\t\t\t\t\t\t<i class=\"et_social_icon et_social_icon_twitter\"></i>\n",
            "\t\t\t\t\t\t\t\t\t\t<div class=\"et_social_network_label\"><div class=\"et_social_networkname\">Twitter</div></div>\n",
            "\t\t\t\t\t\t\t\t\t\t\n",
            "\t\t\t\t\t\t\t\t\t\t<span class=\"et_social_overlay\"></span>\n",
            "\t\t\t\t\t\t\t\t\t</a>\n",
            "\t\t\t\t\t\t\t\t</li><li class=\"et_social_googleplus\">\n",
            "\t\t\t\t\t\t\t\t\t<a href=\"https://plus.google.com/share?url=https%3A%2F%2Fwallpapers.iskcondesiretree.com&#038;t=Hare%20Krishna%20Wallpapers\" class=\"et_social_share\" rel=\"nofollow\" data-social_name=\"googleplus\" data-post_id=\"-1\" data-social_type=\"share\" data-location=\"sidebar\">\n",
            "\t\t\t\t\t\t\t\t\t\t<i class=\"et_social_icon et_social_icon_googleplus\"></i>\n",
            "\t\t\t\t\t\t\t\t\t\t<div class=\"et_social_network_label\"><div class=\"et_social_networkname\">Google+</div></div>\n",
            "\t\t\t\t\t\t\t\t\t\t\n",
            "\t\t\t\t\t\t\t\t\t\t<span class=\"et_social_overlay\"></span>\n",
            "\t\t\t\t\t\t\t\t\t</a>\n",
            "\t\t\t\t\t\t\t\t</li><li class=\"et_social_pinterest\">\n",
            "\t\t\t\t\t\t\t\t\t<a href=\"#\" class=\"et_social_share_pinterest\" rel=\"nofollow\" data-social_name=\"pinterest\" data-post_id=\"-1\" data-social_type=\"share\" data-location=\"sidebar\">\n",
            "\t\t\t\t\t\t\t\t\t\t<i class=\"et_social_icon et_social_icon_pinterest\"></i>\n",
            "\t\t\t\t\t\t\t\t\t\t<div class=\"et_social_network_label\"><div class=\"et_social_networkname\">Pinterest</div></div>\n",
            "\t\t\t\t\t\t\t\t\t\t\n",
            "\t\t\t\t\t\t\t\t\t\t<span class=\"et_social_overlay\"></span>\n",
            "\t\t\t\t\t\t\t\t\t</a>\n",
            "\t\t\t\t\t\t\t\t</li><li class=\"et_social_like\">\n",
            "\t\t\t\t\t\t\t\t\t<a href=\"\" class=\"et_social_share\" rel=\"nofollow\" data-social_name=\"like\" data-post_id=\"-1\" data-social_type=\"like\" data-location=\"sidebar\">\n",
            "\t\t\t\t\t\t\t\t\t\t<i class=\"et_social_icon et_social_icon_like\"></i>\n",
            "\t\t\t\t\t\t\t\t\t\t<div class=\"et_social_network_label\"><div class=\"et_social_networkname\">Like</div></div>\n",
            "\t\t\t\t\t\t\t\t\t\t\n",
            "\t\t\t\t\t\t\t\t\t\t<span class=\"et_social_overlay\"></span>\n",
            "\t\t\t\t\t\t\t\t\t</a>\n",
            "\t\t\t\t\t\t\t\t</li></ul>\n",
            "\t\t\t\t\t\t</div>\n",
            "\t\t\t\t\t</div>\n",
            "\t\t\t\t\t<div class=\"et_social_mobile_overlay\"></div><script>\n",
            "  (function(i,s,o,g,r,a,m){i['GoogleAnalyticsObject']=r;i[r]=i[r]||function(){\n",
            "  (i[r].q=i[r].q||[]).push(arguments)},i[r].l=1*new Date();a=s.createElement(o),\n",
            "  m=s.getElementsByTagName(o)[0];a.async=1;a.src=g;m.parentNode.insertBefore(a,m)\n",
            "  })(window,document,'script','//www.google-analytics.com/analytics.js','ga');\n",
            "\n",
            "  ga('create', 'UA-8513859-1', 'auto');\n",
            "  ga('send', 'pageview');\n",
            "\n",
            "</script><script type='text/javascript' src='https://wallpapers.iskcondesiretree.com/wp-content/plugins/monarch/js/idle-timer.min.js?ver=1.2.7.2'></script>\n",
            "<script type='text/javascript'>\n",
            "/* <![CDATA[ */\n",
            "var monarchSettings = {\"ajaxurl\":\"https:\\/\\/wallpapers.iskcondesiretree.com\\/wp-admin\\/admin-ajax.php\",\"pageurl\":\"\",\"stats_nonce\":\"37b3fd31e6\",\"share_counts\":\"8455e067e9\",\"follow_counts\":\"897e2659a5\",\"total_counts\":\"764b0d6e15\",\"media_single\":\"6871cf7ec0\",\"media_total\":\"6bb67da1c8\",\"generate_all_window_nonce\":\"54ca794b35\",\"no_img_message\":\"No images available for sharing on this page\"};\n",
            "/* ]]> */\n",
            "</script>\n",
            "<script type='text/javascript' src='https://wallpapers.iskcondesiretree.com/wp-content/plugins/monarch/js/custom.js?ver=1.2.7.2'></script>\n",
            "<script type='text/javascript' src='https://wallpapers.iskcondesiretree.com/wp-content/themes/hare-krishna-wallpapers/js/jquery.fitvids.js?ver=1.0'></script>\n",
            "<script type='text/javascript' src='https://wallpapers.iskcondesiretree.com/wp-content/themes/hare-krishna-wallpapers/js/jquery.infinitescroll.js?ver=1.0'></script>\n",
            "<script type='text/javascript'>\n",
            "/* <![CDATA[ */\n",
            "var et_origin_strings = {\"load_posts\":\"Loading new posts...\",\"no_posts\":\"No more posts to load\"};\n",
            "/* ]]> */\n",
            "</script>\n",
            "<script type='text/javascript' src='https://wallpapers.iskcondesiretree.com/wp-content/themes/hare-krishna-wallpapers/js/custom.js?ver=1.0'></script>\n",
            "<script type='text/javascript' src='https://wallpapers.iskcondesiretree.com/wp-content/themes/hare-krishna-wallpapers/epanel/page_templates/js/fancybox/jquery.easing-1.3.pack.js?ver=1.3.4'></script>\n",
            "<script type='text/javascript' src='https://wallpapers.iskcondesiretree.com/wp-content/themes/hare-krishna-wallpapers/epanel/page_templates/js/fancybox/jquery.fancybox-1.3.4.pack.js?ver=1.3.4'></script>\n",
            "<script type='text/javascript'>\n",
            "/* <![CDATA[ */\n",
            "var et_ptemplates_strings = {\"captcha\":\"Captcha\",\"fill\":\"Fill\",\"field\":\"field\",\"invalid\":\"Invalid email\"};\n",
            "/* ]]> */\n",
            "</script>\n",
            "<script type='text/javascript' src='https://wallpapers.iskcondesiretree.com/wp-content/themes/hare-krishna-wallpapers/epanel/page_templates/js/et-ptemplates-frontend.js?ver=1.1'></script>\n",
            "<script type='text/javascript' src='https://wallpapers.iskcondesiretree.com/wp-includes/js/wp-embed.min.js?ver=5.0.18'></script>\n",
            "</body>\n",
            "</html>\n"
          ]
        }
      ]
    },
    {
      "cell_type": "markdown",
      "source": [
        "#6. URL Shortner"
      ],
      "metadata": {
        "id": "RqGFFLq1Vq_9"
      }
    },
    {
      "cell_type": "markdown",
      "source": [
        "### Install the `pyshorteners` python package"
      ],
      "metadata": {
        "id": "T5OXpzUXVyUC"
      }
    },
    {
      "cell_type": "code",
      "source": [
        "!pip install pyshorteners"
      ],
      "metadata": {
        "colab": {
          "base_uri": "https://localhost:8080/"
        },
        "id": "prsswC7ARyaD",
        "outputId": "df347092-e531-44de-cb77-551f94719a13"
      },
      "execution_count": 48,
      "outputs": [
        {
          "output_type": "stream",
          "name": "stdout",
          "text": [
            "Looking in indexes: https://pypi.org/simple, https://us-python.pkg.dev/colab-wheels/public/simple/\n",
            "Collecting pyshorteners\n",
            "  Downloading pyshorteners-1.0.1.tar.gz (10.0 kB)\n",
            "Requirement already satisfied: requests in /usr/local/lib/python3.8/dist-packages (from pyshorteners) (2.25.1)\n",
            "Requirement already satisfied: certifi>=2017.4.17 in /usr/local/lib/python3.8/dist-packages (from requests->pyshorteners) (2022.12.7)\n",
            "Requirement already satisfied: urllib3<1.27,>=1.21.1 in /usr/local/lib/python3.8/dist-packages (from requests->pyshorteners) (1.24.3)\n",
            "Requirement already satisfied: idna<3,>=2.5 in /usr/local/lib/python3.8/dist-packages (from requests->pyshorteners) (2.10)\n",
            "Requirement already satisfied: chardet<5,>=3.0.2 in /usr/local/lib/python3.8/dist-packages (from requests->pyshorteners) (3.0.4)\n",
            "Building wheels for collected packages: pyshorteners\n",
            "  Building wheel for pyshorteners (setup.py) ... \u001b[?25l\u001b[?25hdone\n",
            "  Created wheel for pyshorteners: filename=pyshorteners-1.0.1-py3-none-any.whl size=17495 sha256=6f2404ff9f873728c7d5c342c5199864169522f46dbd17146d43ec6bf210a84d\n",
            "  Stored in directory: /root/.cache/pip/wheels/0f/6e/88/f0c854fa281b13d4997e9068dd69201e51c4b051c52c30b48d\n",
            "Successfully built pyshorteners\n",
            "Installing collected packages: pyshorteners\n",
            "Successfully installed pyshorteners-1.0.1\n"
          ]
        }
      ]
    },
    {
      "cell_type": "markdown",
      "source": [
        "### Import the packages"
      ],
      "metadata": {
        "id": "6ZtyVOKDV72S"
      }
    },
    {
      "cell_type": "code",
      "source": [
        "import pyshorteners"
      ],
      "metadata": {
        "id": "9VTyEz-zV5Vz"
      },
      "execution_count": 49,
      "outputs": []
    },
    {
      "cell_type": "code",
      "source": [
        "url=input('\\033[1m' + \"Enter the url:\")\n",
        "print('\\033[0m')\n",
        "shortener=pyshorteners.Shortener()\n",
        "a=shortener.tinyurl.short(url)\n",
        "print(\"\\nOriginal URL: \" + url)\n",
        "print(\"\\nShorten URL: \" + a)"
      ],
      "metadata": {
        "colab": {
          "base_uri": "https://localhost:8080/"
        },
        "id": "XmlFObIAWEgS",
        "outputId": "9519596e-1f5f-42c0-c0ae-4fdf17c71963"
      },
      "execution_count": 52,
      "outputs": [
        {
          "output_type": "stream",
          "name": "stdout",
          "text": [
            "Enter the url:https://huggingface.co/course/chapter1/1\n",
            "\n",
            "Original URL: https://huggingface.co/course/chapter1/1\n",
            "\n",
            "Shorten URL: https://tinyurl.com/2guedpaa\n"
          ]
        }
      ]
    },
    {
      "cell_type": "markdown",
      "source": [
        "#7. Wikipedia Search"
      ],
      "metadata": {
        "id": "2udqNMe2W0wS"
      }
    },
    {
      "cell_type": "markdown",
      "source": [
        "### Install the `wikipedia` python package"
      ],
      "metadata": {
        "id": "K2tK3vOKW6vS"
      }
    },
    {
      "cell_type": "code",
      "source": [
        "!pip install wikipedia"
      ],
      "metadata": {
        "colab": {
          "base_uri": "https://localhost:8080/"
        },
        "id": "SD2Ag6xrXFBZ",
        "outputId": "ab5d5b41-3e1e-4756-ffa6-9c3989a792ed"
      },
      "execution_count": 53,
      "outputs": [
        {
          "output_type": "stream",
          "name": "stdout",
          "text": [
            "Looking in indexes: https://pypi.org/simple, https://us-python.pkg.dev/colab-wheels/public/simple/\n",
            "Collecting wikipedia\n",
            "  Downloading wikipedia-1.4.0.tar.gz (27 kB)\n",
            "Requirement already satisfied: beautifulsoup4 in /usr/local/lib/python3.8/dist-packages (from wikipedia) (4.9.3)\n",
            "Requirement already satisfied: requests<3.0.0,>=2.0.0 in /usr/local/lib/python3.8/dist-packages (from wikipedia) (2.25.1)\n",
            "Requirement already satisfied: chardet<5,>=3.0.2 in /usr/local/lib/python3.8/dist-packages (from requests<3.0.0,>=2.0.0->wikipedia) (3.0.4)\n",
            "Requirement already satisfied: certifi>=2017.4.17 in /usr/local/lib/python3.8/dist-packages (from requests<3.0.0,>=2.0.0->wikipedia) (2022.12.7)\n",
            "Requirement already satisfied: urllib3<1.27,>=1.21.1 in /usr/local/lib/python3.8/dist-packages (from requests<3.0.0,>=2.0.0->wikipedia) (1.24.3)\n",
            "Requirement already satisfied: idna<3,>=2.5 in /usr/local/lib/python3.8/dist-packages (from requests<3.0.0,>=2.0.0->wikipedia) (2.10)\n",
            "Requirement already satisfied: soupsieve>1.2 in /usr/local/lib/python3.8/dist-packages (from beautifulsoup4->wikipedia) (2.3.2.post1)\n",
            "Building wheels for collected packages: wikipedia\n",
            "  Building wheel for wikipedia (setup.py) ... \u001b[?25l\u001b[?25hdone\n",
            "  Created wheel for wikipedia: filename=wikipedia-1.4.0-py3-none-any.whl size=11695 sha256=2d637feeda2dcfb2cd8356358022704160da4807300bb2deff57b7277aceb683\n",
            "  Stored in directory: /root/.cache/pip/wheels/07/93/05/72c05349177dca2e0ba31a33ba4f7907606f7ddef303517c6a\n",
            "Successfully built wikipedia\n",
            "Installing collected packages: wikipedia\n",
            "Successfully installed wikipedia-1.4.0\n"
          ]
        }
      ]
    },
    {
      "cell_type": "markdown",
      "source": [
        "### Import the packages"
      ],
      "metadata": {
        "id": "HwsQiH4_XIHN"
      }
    },
    {
      "cell_type": "code",
      "source": [
        "import wikipedia"
      ],
      "metadata": {
        "id": "rr3fQdgUWZJm"
      },
      "execution_count": 54,
      "outputs": []
    },
    {
      "cell_type": "code",
      "source": [
        "query=input('\\033[1m' + \"Enter the keyword to search Wikipedia: \")\n",
        "print('\\033[0m')\n",
        "print('\\n')\n",
        "result=wikipedia.page(query)\n",
        "print(result.summary)"
      ],
      "metadata": {
        "colab": {
          "base_uri": "https://localhost:8080/"
        },
        "id": "k5177liFXL38",
        "outputId": "cc50c77b-ce7e-4802-d749-a4758fc6cbdd"
      },
      "execution_count": 58,
      "outputs": [
        {
          "output_type": "stream",
          "name": "stdout",
          "text": [
            "\u001b[1mEnter the keyword to search Wikipedia: Virat Kohli\n",
            "\u001b[0m\n",
            "\n",
            "\n",
            "Virat Kohli (Hindi: [ʋɪˈɾɑːʈ ˈkoːɦliː] (listen); born 5 November 1988) is an Indian international cricketer and former captain of the India national cricket team. Widely regarded as one of the greatest batsmen of all time, Kohli plays as a right-handed batter for Royal Challengers Bangalore in the Indian Premier League and for Delhi in domestic Indian cricket. With 40 wins out of 68 tests, Kohli is India's most successful test captain, and one of the most successful test captains of all time, behind only Graeme Smith, Ricky Ponting and Steve Waugh.\n",
            "Kohli made his Test debut in 2011. He reached the number one spot in the ICC rankings for ODI batsmen for the first time in 2013.  He has won Man of the Tournament twice at the ICC World Twenty20 (in 2014 and 2016). He is also the leading run scorer of all time in T20 Internationals as well as T20 World Cups.\n",
            "Kohli has been the recipient of multiple awards– most notably the Sir Garfield Sobers Trophy (ICC Men's Cricketer of the Decade): 2011–2020; Sir Garfield Sobers Trophy (ICC Cricketer of the Year) in 2017 and 2018; ICC Test Player of the Year (2018); ICC ODI Player of the Year (2012, 2017, 2018) and Wisden Leading Cricketer in the World (2016, 2017 and 2018). At the national level, he was awarded the Arjuna Award in 2013, the Padma Shri under the sports category in 2017 and the Rajiv Gandhi Khel Ratna award, the highest sporting honour in India, in 2018.In 2016, he was ranked as one of the world's most famous athletes by ESPN and one of the most valuable athlete brands by Forbes. In 2018, Time magazine named him as one of the 100 most influential people in the world. In 2020, he was ranked 66th in Forbes list of the top 100 highest-paid athletes in the world for the year 2020 with estimated earnings of over $26 million.\n"
          ]
        }
      ]
    }
  ]
}